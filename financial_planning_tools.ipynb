{
 "cells": [
  {
   "cell_type": "markdown",
   "metadata": {},
   "source": [
    "# Financial Planning with APIs and Simulations\n",
    "\n",
    "In this Challenge, you’ll create two financial analysis tools by using a single Jupyter notebook:\n",
    "\n",
    "Part 1: A financial planner for emergencies. The members will be able to use this tool to visualize their current savings. The members can then determine if they have enough reserves for an emergency fund.\n",
    "\n",
    "Part 2: A financial planner for retirement. This tool will forecast the performance of their retirement portfolio in 30 years. To do this, the tool will make an Alpaca API call via the Alpaca SDK to get historical price data for use in Monte Carlo simulations.\n",
    "\n",
    "You’ll use the information from the Monte Carlo simulation to answer questions about the portfolio in your Jupyter notebook.\n",
    "\n"
   ]
  },
  {
   "cell_type": "code",
   "execution_count": 1,
   "metadata": {},
   "outputs": [],
   "source": [
    "# Import the required libraries and dependencies\n",
    "import os\n",
    "import requests\n",
    "import json\n",
    "import pandas as pd\n",
    "from dotenv import load_dotenv\n",
    "import alpaca_trade_api as tradeapi\n",
    "from MCForecastTools import MCSimulation\n",
    "\n",
    "%matplotlib inline"
   ]
  },
  {
   "cell_type": "code",
   "execution_count": 3,
   "metadata": {},
   "outputs": [
    {
     "data": {
      "text/plain": [
       "True"
      ]
     },
     "execution_count": 3,
     "metadata": {},
     "output_type": "execute_result"
    }
   ],
   "source": [
    "# Load the environment variables from the .env file\n",
    "#by calling the load_dotenv function\n",
    "load_dotenv()"
   ]
  },
  {
   "cell_type": "markdown",
   "metadata": {},
   "source": [
    "## Part 1: Create a Financial Planner for Emergencies"
   ]
  },
  {
   "cell_type": "markdown",
   "metadata": {},
   "source": [
    "### Evaluate the Cryptocurrency Wallet by Using the Requests Library\n",
    "\n",
    "In this section, you’ll determine the current value of a member’s cryptocurrency wallet. You’ll collect the current prices for the Bitcoin and Ethereum cryptocurrencies by using the Python Requests library. For the prototype, you’ll assume that the member holds the 1.2 Bitcoins (BTC) and 5.3 Ethereum coins (ETH). To do all this, complete the following steps:\n",
    "\n",
    "1. Create a variable named `monthly_income`, and set its value to `12000`.\n",
    "\n",
    "2. Use the Requests library to get the current price (in US dollars) of Bitcoin (BTC) and Ethereum (ETH) by using the API endpoints that the starter code supplies.\n",
    "\n",
    "3. Navigate the JSON response object to access the current price of each coin, and store each in a variable.\n",
    "\n",
    "    > **Hint** Note the specific identifier for each cryptocurrency in the API JSON response. The Bitcoin identifier is `1`, and the Ethereum identifier is `1027`.\n",
    "\n",
    "4. Calculate the value, in US dollars, of the current amount of each cryptocurrency and of the entire cryptocurrency wallet.\n",
    "\n"
   ]
  },
  {
   "cell_type": "code",
   "execution_count": 4,
   "metadata": {},
   "outputs": [],
   "source": [
    "# The current number of coins for each cryptocurrency asset held in the portfolio.\n",
    "btc_coins = 1.2\n",
    "eth_coins = 5.3"
   ]
  },
  {
   "cell_type": "markdown",
   "metadata": {},
   "source": [
    "#### Step 1: Create a variable named `monthly_income`, and set its value to `12000`."
   ]
  },
  {
   "cell_type": "code",
   "execution_count": 6,
   "metadata": {},
   "outputs": [],
   "source": [
    "# The monthly amount for the member's household income\n",
    "monthly_income = 12000\n"
   ]
  },
  {
   "cell_type": "markdown",
   "metadata": {},
   "source": [
    "#### Review the endpoint URLs for the API calls to Free Crypto API in order to get the current pricing information for both BTC and ETH."
   ]
  },
  {
   "cell_type": "code",
   "execution_count": 7,
   "metadata": {},
   "outputs": [],
   "source": [
    "# The Free Crypto API Call endpoint URLs for the held cryptocurrency assets\n",
    "btc_url = \"https://api.alternative.me/v2/ticker/Bitcoin/?convert=USD\"\n",
    "eth_url = \"https://api.alternative.me/v2/ticker/Ethereum/?convert=USD\""
   ]
  },
  {
   "cell_type": "markdown",
   "metadata": {},
   "source": [
    "#### Step 2. Use the Requests library to get the current price (in US dollars) of Bitcoin (BTC) and Ethereum (ETH) by using the API endpoints that the starter code supplied."
   ]
  },
  {
   "cell_type": "code",
   "execution_count": 13,
   "metadata": {},
   "outputs": [
    {
     "data": {
      "text/plain": [
       "{'data': {'1': {'id': 1,\n",
       "   'name': 'Bitcoin',\n",
       "   'symbol': 'BTC',\n",
       "   'website_slug': 'bitcoin',\n",
       "   'rank': 1,\n",
       "   'circulating_supply': 19013650,\n",
       "   'total_supply': 19013650,\n",
       "   'max_supply': 21000000,\n",
       "   'quotes': {'USD': {'price': 40450.0,\n",
       "     'volume_24h': 15777789210,\n",
       "     'market_cap': 770439827829,\n",
       "     'percentage_change_1h': 0.007952773071159,\n",
       "     'percentage_change_24h': -0.335623119397241,\n",
       "     'percentage_change_7d': -4.40812745652884,\n",
       "     'percent_change_1h': 0.007952773071159,\n",
       "     'percent_change_24h': -0.335623119397241,\n",
       "     'percent_change_7d': -4.40812745652884}},\n",
       "   'last_updated': 1650153518}},\n",
       " 'metadata': {'timestamp': 1650153518,\n",
       "  'num_cryptocurrencies': 3106,\n",
       "  'error': None}}"
      ]
     },
     "execution_count": 13,
     "metadata": {},
     "output_type": "execute_result"
    }
   ],
   "source": [
    "# Using the Python requests library, make an API call to access the current price of BTC\n",
    "btc_response = requests.get(btc_url)\n",
    "btc_response.json()\n",
    "\n",
    "# Use the json.dumps function to review the response data from the API call\n",
    "# Use the indent and sort_keys parameters to make the response object readable\n",
    "# YOUR CODE HERE\n",
    "btc_response.json()"
   ]
  },
  {
   "cell_type": "code",
   "execution_count": 15,
   "metadata": {},
   "outputs": [
    {
     "data": {
      "text/plain": [
       "{'data': {'1027': {'id': 1027,\n",
       "   'name': 'Ethereum',\n",
       "   'symbol': 'ETH',\n",
       "   'website_slug': 'ethereum',\n",
       "   'rank': 2,\n",
       "   'circulating_supply': 120407851,\n",
       "   'total_supply': 120407851,\n",
       "   'max_supply': 0,\n",
       "   'quotes': {'USD': {'price': 3066.01,\n",
       "     'volume_24h': 9068529877,\n",
       "     'market_cap': 369787917597,\n",
       "     'percentage_change_1h': 0.0365289111316206,\n",
       "     'percentage_change_24h': 0.675744852588495,\n",
       "     'percentage_change_7d': -3.94789168096492,\n",
       "     'percent_change_1h': 0.0365289111316206,\n",
       "     'percent_change_24h': 0.675744852588495,\n",
       "     'percent_change_7d': -3.94789168096492}},\n",
       "   'last_updated': 1650153480}},\n",
       " 'metadata': {'timestamp': 1650153480,\n",
       "  'num_cryptocurrencies': 3106,\n",
       "  'error': None}}"
      ]
     },
     "execution_count": 15,
     "metadata": {},
     "output_type": "execute_result"
    }
   ],
   "source": [
    "# Using the Python requests library, make an API call to access the current price ETH\n",
    "eth_response = requests.get(eth_url)\n",
    "\n",
    "# Use the json.dumps function to review the response data from the API call\n",
    "# Use the indent and sort_keys parameters to make the response object readable\n",
    "# YOUR CODE HERE\n",
    "eth_response.json()"
   ]
  },
  {
   "cell_type": "markdown",
   "metadata": {},
   "source": [
    "#### Step 3: Navigate the JSON response object to access the current price of each coin, and store each in a variable."
   ]
  },
  {
   "cell_type": "code",
   "execution_count": 21,
   "metadata": {},
   "outputs": [
    {
     "name": "stdout",
     "output_type": "stream",
     "text": [
      "40450.0\n"
     ]
    }
   ],
   "source": [
    "# Navigate the BTC response object to access the current price of BTC\n",
    "btc_price = btc_response.json()['data']['1']['quotes']['USD']['price']\n",
    "\n",
    "# Print the current price of BTC\n",
    "print(btc_price)"
   ]
  },
  {
   "cell_type": "code",
   "execution_count": 24,
   "metadata": {},
   "outputs": [
    {
     "name": "stdout",
     "output_type": "stream",
     "text": [
      "3066.01\n"
     ]
    }
   ],
   "source": [
    "# Navigate the BTC response object to access the current price of ETH\n",
    "eth_price = eth_response.json()['data']['1027']['quotes']['USD']['price']\n",
    "\n",
    "# Print the current price of ETH\n",
    "# YOUR CODE HERE\n",
    "print(eth_price)"
   ]
  },
  {
   "cell_type": "markdown",
   "metadata": {},
   "source": [
    "### Step 4: Calculate the value, in US dollars, of the current amount of each cryptocurrency and of the entire cryptocurrency wallet."
   ]
  },
  {
   "cell_type": "code",
   "execution_count": 27,
   "metadata": {},
   "outputs": [
    {
     "name": "stdout",
     "output_type": "stream",
     "text": [
      "48540.0\n"
     ]
    }
   ],
   "source": [
    "# Compute the current value of the BTC holding \n",
    "btc_value = btc_coins * btc_price\n",
    "\n",
    "# Print current value of your holding in BTC\n",
    "print(btc_value)\n"
   ]
  },
  {
   "cell_type": "code",
   "execution_count": 28,
   "metadata": {},
   "outputs": [
    {
     "name": "stdout",
     "output_type": "stream",
     "text": [
      "16249.853000000001\n"
     ]
    }
   ],
   "source": [
    "# Compute the current value of the ETH holding \n",
    "eth_value = eth_coins * eth_price\n",
    "\n",
    "# Print current value of your holding in ETH\n",
    "# YOUR CODE HERE\n",
    "print(eth_value)"
   ]
  },
  {
   "cell_type": "code",
   "execution_count": 29,
   "metadata": {},
   "outputs": [
    {
     "name": "stdout",
     "output_type": "stream",
     "text": [
      "64789.853\n"
     ]
    }
   ],
   "source": [
    "# Compute the total value of the cryptocurrency wallet\n",
    "# Add the value of the BTC holding to the value of the ETH holding\n",
    "total_crypto_wallet = btc_value + eth_value\n",
    "\n",
    "# Print current cryptocurrency wallet balance\n",
    "print(total_crypto_wallet)\n"
   ]
  },
  {
   "cell_type": "markdown",
   "metadata": {},
   "source": [
    "### Evaluate the Stock and Bond Holdings by Using the Alpaca SDK\n",
    "\n",
    "In this section, you’ll determine the current value of a member’s stock and bond holdings. You’ll make an API call to Alpaca via the Alpaca SDK to get the current closing prices of the SPDR S&P 500 ETF Trust (ticker: SPY) and of the iShares Core US Aggregate Bond ETF (ticker: AGG). For the prototype, assume that the member holds 110 shares of SPY, which represents the stock portion of their portfolio, and 200 shares of AGG, which represents the bond portion. To do all this, complete the following steps:\n",
    "\n",
    "1. In the `Starter_Code` folder, create an environment file (`.env`) to store the values of your Alpaca API key and Alpaca secret key.\n",
    "\n",
    "2. Set the variables for the Alpaca API and secret keys. Using the Alpaca SDK, create the Alpaca `tradeapi.REST` object. In this object, include the parameters for the Alpaca API key, the secret key, and the version number.\n",
    "\n",
    "3. Set the following parameters for the Alpaca API call:\n",
    "\n",
    "    - `tickers`: Use the tickers for the member’s stock and bond holdings.\n",
    "\n",
    "    - `timeframe`: Use a time frame of one day.\n",
    "\n",
    "    - `start_date` and `end_date`: Use the same date for these parameters, and format them with the date of the previous weekday (or `2020-08-07`). This is because you want the one closing price for the most-recent trading day.\n",
    "\n",
    "4. Get the current closing prices for `SPY` and `AGG` by using the Alpaca `get_bars` function. Format the response as a Pandas DataFrame by including the `df` property at the end of the `get_bars` function.\n",
    "\n",
    "5. Navigating the Alpaca response DataFrame, select the `SPY` and `AGG` closing prices, and store them as variables.\n",
    "\n",
    "6. Calculate the value, in US dollars, of the current amount of shares in each of the stock and bond portions of the portfolio, and print the results.\n"
   ]
  },
  {
   "cell_type": "markdown",
   "metadata": {},
   "source": [
    "#### Review the total number of shares held in both (SPY) and (AGG)."
   ]
  },
  {
   "cell_type": "code",
   "execution_count": 30,
   "metadata": {},
   "outputs": [],
   "source": [
    "# Current amount of shares held in both the stock (SPY) and bond (AGG) portion of the portfolio.\n",
    "spy_shares = 110\n",
    "agg_shares = 200\n"
   ]
  },
  {
   "cell_type": "markdown",
   "metadata": {},
   "source": [
    "#### Step 1: In the `Starter_Code` folder, create an environment file (`.env`) to store the values of your Alpaca API key and Alpaca secret key."
   ]
  },
  {
   "cell_type": "markdown",
   "metadata": {},
   "source": [
    "#### Step 2: Set the variables for the Alpaca API and secret keys. Using the Alpaca SDK, create the Alpaca `tradeapi.REST` object. In this object, include the parameters for the Alpaca API key, the secret key, and the version number."
   ]
  },
  {
   "cell_type": "code",
   "execution_count": 54,
   "metadata": {},
   "outputs": [],
   "source": [
    "# Set the variables for the Alpaca API and secret keys\n",
    "load_dotenv(verbose=True)\n",
    "ALPACA_API_KEY = os.environ.get(\"ALPACA_API_KEY\")\n",
    "ALPACA_SECRET_KEY = os.environ.get(\"ALPACA_SECRET_KEY\")\n",
    "\n",
    "# Create the Alpaca tradeapi.REST object\n",
    "# YOUR CODE HERE\n",
    "api = tradeapi.REST(ALPACA_API_KEY, ALPACA_SECRET_KEY, 'https://paper-api.alpaca.markets')"
   ]
  },
  {
   "cell_type": "markdown",
   "metadata": {},
   "source": [
    "#### Step 3: Set the following parameters for the Alpaca API call:\n",
    "\n",
    "- `tickers`: Use the tickers for the member’s stock and bond holdings.\n",
    "\n",
    "- `timeframe`: Use a time frame of one day.\n",
    "\n",
    "- `start_date` and `end_date`: Use the same date for these parameters, and format them with the date of the previous weekday (or `2020-08-07`). This is because you want the one closing price for the most-recent trading day.\n"
   ]
  },
  {
   "cell_type": "code",
   "execution_count": 70,
   "metadata": {},
   "outputs": [],
   "source": [
    "# Set the tickers for both the bond and stock portion of the portfolio\n",
    "tickers = [\"SPY\", \"AGG\"]\n",
    "\n",
    "# Set timeframe to 1Day\n",
    "# YOUR CODE HERE\n",
    "timeframe = \"1Day\"\n",
    "\n",
    "# Format current date as ISO format\n",
    "# Set both the start and end date at the date of your prior weekday \n",
    "# This will give you the closing price of the previous trading day\n",
    "# Alternatively you can use a start and end date of 2020-08-07\n",
    "start_date = pd.Timestamp(\"2022-04-14\", tz=\"America/New_York\").isoformat()\n",
    "end_date = pd.Timestamp(\"2022-04-14\", tz=\"America/New_York\").isoformat()"
   ]
  },
  {
   "cell_type": "markdown",
   "metadata": {},
   "source": [
    "#### Step 4: Get the current closing prices for `SPY` and `AGG` by using the Alpaca `get_bars` function. Format the response as a Pandas DataFrame by including the `df` property at the end of the `get_bars` function."
   ]
  },
  {
   "cell_type": "code",
   "execution_count": 73,
   "metadata": {},
   "outputs": [
    {
     "data": {
      "text/html": [
       "<div>\n",
       "<style scoped>\n",
       "    .dataframe tbody tr th:only-of-type {\n",
       "        vertical-align: middle;\n",
       "    }\n",
       "\n",
       "    .dataframe tbody tr th {\n",
       "        vertical-align: top;\n",
       "    }\n",
       "\n",
       "    .dataframe thead th {\n",
       "        text-align: right;\n",
       "    }\n",
       "</style>\n",
       "<table border=\"1\" class=\"dataframe\">\n",
       "  <thead>\n",
       "    <tr style=\"text-align: right;\">\n",
       "      <th></th>\n",
       "      <th>SPY</th>\n",
       "      <th>AGG</th>\n",
       "    </tr>\n",
       "  </thead>\n",
       "  <tbody>\n",
       "    <tr>\n",
       "      <th>open</th>\n",
       "      <td>104.73</td>\n",
       "      <td>443.44</td>\n",
       "    </tr>\n",
       "    <tr>\n",
       "      <th>high</th>\n",
       "      <td>104.74</td>\n",
       "      <td>444.7301</td>\n",
       "    </tr>\n",
       "    <tr>\n",
       "      <th>low</th>\n",
       "      <td>103.93</td>\n",
       "      <td>437.68</td>\n",
       "    </tr>\n",
       "    <tr>\n",
       "      <th>close</th>\n",
       "      <td>103.97</td>\n",
       "      <td>437.79</td>\n",
       "    </tr>\n",
       "    <tr>\n",
       "      <th>volume</th>\n",
       "      <td>8505987</td>\n",
       "      <td>98667135</td>\n",
       "    </tr>\n",
       "  </tbody>\n",
       "</table>\n",
       "</div>"
      ],
      "text/plain": [
       "            SPY       AGG\n",
       "open     104.73    443.44\n",
       "high     104.74  444.7301\n",
       "low      103.93    437.68\n",
       "close    103.97    437.79\n",
       "volume  8505987  98667135"
      ]
     },
     "execution_count": 73,
     "metadata": {},
     "output_type": "execute_result"
    }
   ],
   "source": [
    "# Use the Alpaca get_bars function to get current closing prices the portfolio\n",
    "# Be sure to set the `df` property after the function to format the response object as a DataFrame\n",
    "\n",
    "\n",
    "ticker_data = api.get_bars(\n",
    "    tickers, \n",
    "    timeframe, \n",
    "    start = start_date,\n",
    "    end = end_date\n",
    ").df\n",
    "\n",
    "# Reorganize the DataFrame\n",
    "ticker_data = pd.concat([ticker_data.iloc[0], ticker_data.iloc[1]], axis=1, keys=tickers)\n",
    "\n",
    "\n",
    "# Concatenate the ticker DataFrames\n",
    "# YOUR CODE HERE\n",
    "\n",
    "# Review the first 5 rows of the Alpaca DataFrame\n",
    "ticker_data.head()\n"
   ]
  },
  {
   "cell_type": "markdown",
   "metadata": {},
   "source": [
    "#### Step 5: Navigating the Alpaca response DataFrame, select the `SPY` and `AGG` closing prices, and store them as variables."
   ]
  },
  {
   "cell_type": "code",
   "execution_count": 78,
   "metadata": {},
   "outputs": [
    {
     "name": "stdout",
     "output_type": "stream",
     "text": [
      "437.79\n"
     ]
    }
   ],
   "source": [
    "# Access the closing price for AGG from the Alpaca DataFrame\n",
    "# Converting the value to a floating point number\n",
    "agg_close_price = ticker_data['AGG']['close']\n",
    "# Print the AGG closing price\n",
    "print(agg_close_price)\n"
   ]
  },
  {
   "cell_type": "code",
   "execution_count": 79,
   "metadata": {},
   "outputs": [
    {
     "name": "stdout",
     "output_type": "stream",
     "text": [
      "103.97\n"
     ]
    }
   ],
   "source": [
    "# Access the closing price for SPY from the Alpaca DataFrame\n",
    "# Converting the value to a floating point number\n",
    "spy_close_price = ticker_data[\"SPY\"]['close']\n",
    "\n",
    "# Print the SPY closing price\n",
    "print(spy_close_price)\n"
   ]
  },
  {
   "cell_type": "markdown",
   "metadata": {},
   "source": [
    "#### Step 6: Calculate the value, in US dollars, of the current amount of shares in each of the stock and bond portions of the portfolio, and print the results."
   ]
  },
  {
   "cell_type": "code",
   "execution_count": 80,
   "metadata": {},
   "outputs": [
    {
     "name": "stdout",
     "output_type": "stream",
     "text": [
      "87558.0\n"
     ]
    }
   ],
   "source": [
    "# Calculate the current value of the bond portion of the portfolio\n",
    "agg_value = agg_shares * agg_close_price\n",
    "\n",
    "# Print the current value of the bond portfolio\n",
    "print(agg_value)\n"
   ]
  },
  {
   "cell_type": "code",
   "execution_count": 82,
   "metadata": {},
   "outputs": [
    {
     "name": "stdout",
     "output_type": "stream",
     "text": [
      "11436.7\n"
     ]
    }
   ],
   "source": [
    "# Calculate the current value of the stock portion of the portfolio\n",
    "spy_value = spy_shares * spy_close_price\n",
    "\n",
    "# Print the current value of the stock portfolio\n",
    "print(spy_value)\n"
   ]
  },
  {
   "cell_type": "code",
   "execution_count": 83,
   "metadata": {},
   "outputs": [
    {
     "name": "stdout",
     "output_type": "stream",
     "text": [
      "98994.7\n"
     ]
    }
   ],
   "source": [
    "# Calculate the total value of the stock and bond portion of the portfolio\n",
    "total_stocks_bonds = agg_value + spy_value\n",
    "\n",
    "# Print the current balance of the stock and bond portion of the portfolio\n",
    "print(total_stocks_bonds)\n"
   ]
  },
  {
   "cell_type": "code",
   "execution_count": 84,
   "metadata": {},
   "outputs": [
    {
     "name": "stdout",
     "output_type": "stream",
     "text": [
      "163784.553\n"
     ]
    }
   ],
   "source": [
    "# Calculate the total value of the member's entire savings portfolio\n",
    "# Add the value of the cryptocurrency walled to the value of the total stocks and bonds\n",
    "total_portfolio = total_crypto_wallet + total_stocks_bonds\n",
    "\n",
    "# Print current cryptocurrency wallet balance\n",
    "print(total_portfolio)\n"
   ]
  },
  {
   "cell_type": "markdown",
   "metadata": {},
   "source": [
    "### Evaluate the Emergency Fund\n",
    "\n",
    "In this section, you’ll use the valuations for the cryptocurrency wallet and for the stock and bond portions of the portfolio to determine if the credit union member has enough savings to build an emergency fund into their financial plan. To do this, complete the following steps:\n",
    "\n",
    "1. Create a Python list named `savings_data` that has two elements. The first element contains the total value of the cryptocurrency wallet. The second element contains the total value of the stock and bond portions of the portfolio.\n",
    "\n",
    "2. Use the `savings_data` list to create a Pandas DataFrame named `savings_df`, and then display this DataFrame. The function to create the DataFrame should take the following three parameters:\n",
    "\n",
    "    - `savings_data`: Use the list that you just created.\n",
    "\n",
    "    - `columns`: Set this parameter equal to a Python list with a single value called `amount`.\n",
    "\n",
    "    - `index`: Set this parameter equal to a Python list with the values of `crypto` and `stock/bond`.\n",
    "\n",
    "3. Use the `savings_df` DataFrame to plot a pie chart that visualizes the composition of the member’s portfolio. The y-axis of the pie chart uses `amount`. Be sure to add a title.\n",
    "\n",
    "4. Using Python, determine if the current portfolio has enough to create an emergency fund as part of the member’s financial plan. Ideally, an emergency fund should equal to three times the member’s monthly income. To do this, implement the following steps:\n",
    "\n",
    "    1. Create a variable named `emergency_fund_value`, and set it equal to three times the value of the member’s `monthly_income` of $12000. (You set this earlier in Part 1).\n",
    "\n",
    "    2. Create a series of three if statements to determine if the member’s total portfolio is large enough to fund the emergency portfolio:\n",
    "\n",
    "        1. If the total portfolio value is greater than the emergency fund value, display a message congratulating the member for having enough money in this fund.\n",
    "\n",
    "        2. Else if the total portfolio value is equal to the emergency fund value, display a message congratulating the member on reaching this important financial goal.\n",
    "\n",
    "        3. Else the total portfolio is less than the emergency fund value, so display a message showing how many dollars away the member is from reaching the goal. (Subtract the total portfolio value from the emergency fund value.)\n"
   ]
  },
  {
   "cell_type": "markdown",
   "metadata": {},
   "source": [
    "#### Step 1: Create a Python list named `savings_data` that has two elements. The first element contains the total value of the cryptocurrency wallet. The second element contains the total value of the stock and bond portions of the portfolio."
   ]
  },
  {
   "cell_type": "code",
   "execution_count": 85,
   "metadata": {},
   "outputs": [
    {
     "data": {
      "text/plain": [
       "[64789.853, 98994.7]"
      ]
     },
     "execution_count": 85,
     "metadata": {},
     "output_type": "execute_result"
    }
   ],
   "source": [
    "# Consolidate financial assets data into a Python list\n",
    "savings_data = [total_crypto_wallet, total_stocks_bonds]\n",
    "\n",
    "# Review the Python list savings_data\n",
    "savings_data\n",
    "    "
   ]
  },
  {
   "cell_type": "markdown",
   "metadata": {},
   "source": [
    "#### Step 2: Use the `savings_data` list to create a Pandas DataFrame named `savings_df`, and then display this DataFrame. The function to create the DataFrame should take the following three parameters:\n",
    "\n",
    "- `savings_data`: Use the list that you just created.\n",
    "\n",
    "- `columns`: Set this parameter equal to a Python list with a single value called `amount`.\n",
    "\n",
    "- `index`: Set this parameter equal to a Python list with the values of `crypto` and `stock/bond`.\n"
   ]
  },
  {
   "cell_type": "code",
   "execution_count": 92,
   "metadata": {},
   "outputs": [
    {
     "data": {
      "text/html": [
       "<div>\n",
       "<style scoped>\n",
       "    .dataframe tbody tr th:only-of-type {\n",
       "        vertical-align: middle;\n",
       "    }\n",
       "\n",
       "    .dataframe tbody tr th {\n",
       "        vertical-align: top;\n",
       "    }\n",
       "\n",
       "    .dataframe thead th {\n",
       "        text-align: right;\n",
       "    }\n",
       "</style>\n",
       "<table border=\"1\" class=\"dataframe\">\n",
       "  <thead>\n",
       "    <tr style=\"text-align: right;\">\n",
       "      <th></th>\n",
       "      <th>amount</th>\n",
       "    </tr>\n",
       "  </thead>\n",
       "  <tbody>\n",
       "    <tr>\n",
       "      <th>crypto</th>\n",
       "      <td>64789.853</td>\n",
       "    </tr>\n",
       "    <tr>\n",
       "      <th>stock/bond</th>\n",
       "      <td>98994.700</td>\n",
       "    </tr>\n",
       "  </tbody>\n",
       "</table>\n",
       "</div>"
      ],
      "text/plain": [
       "               amount\n",
       "crypto      64789.853\n",
       "stock/bond  98994.700"
      ]
     },
     "metadata": {},
     "output_type": "display_data"
    }
   ],
   "source": [
    "# Create a Pandas DataFrame called savings_df \n",
    "savings_df = pd.DataFrame(savings_data, columns=[\"amount\"], index=[\"crypto\", \"stock/bond\"])\n",
    "\n",
    "# Display the savings_df DataFrame\n",
    "display(savings_df)\n"
   ]
  },
  {
   "cell_type": "markdown",
   "metadata": {},
   "source": [
    "#### Step 3: Use the `savings_df` DataFrame to plot a pie chart that visualizes the composition of the member’s portfolio. The y-axis of the pie chart uses `amount`. Be sure to add a title."
   ]
  },
  {
   "cell_type": "code",
   "execution_count": 97,
   "metadata": {},
   "outputs": [
    {
     "data": {
      "text/plain": [
       "<AxesSubplot:title={'center':'Portfolio distribution'}, ylabel='amount'>"
      ]
     },
     "execution_count": 97,
     "metadata": {},
     "output_type": "execute_result"
    },
    {
     "data": {
      "image/png": "[encoded data removed]",
      "text/plain": [
       "<Figure size 432x288 with 1 Axes>"
      ]
     },
     "metadata": {},
     "output_type": "display_data"
    }
   ],
   "source": [
    "# Plot the total value of the member's portfolio (crypto and stock/bond) in a pie chart\n",
    "savings_df.plot.pie(y=\"amount\", title=\"Portfolio distribution\")\n"
   ]
  },
  {
   "cell_type": "markdown",
   "metadata": {},
   "source": [
    "#### Step 4: Using Python, determine if the current portfolio has enough to create an emergency fund as part of the member’s financial plan. Ideally, an emergency fund should equal to three times the member’s monthly income. To do this, implement the following steps:\n",
    "\n",
    "Step 1. Create a variable named `emergency_fund_value`, and set it equal to three times the value of the member’s `monthly_income` of 12000. (You set this earlier in Part 1).\n",
    "\n",
    "Step 2. Create a series of three if statements to determine if the member’s total portfolio is large enough to fund the emergency portfolio:\n",
    "\n",
    "* If the total portfolio value is greater than the emergency fund value, display a message congratulating the member for having enough money in this fund.\n",
    "\n",
    "* Else if the total portfolio value is equal to the emergency fund value, display a message congratulating the member on reaching this important financial goal.\n",
    "\n",
    "* Else the total portfolio is less than the emergency fund value, so display a message showing how many dollars away the member is from reaching the goal. (Subtract the total portfolio value from the emergency fund value.)\n"
   ]
  },
  {
   "cell_type": "markdown",
   "metadata": {},
   "source": [
    "##### Step 4-1: Create a variable named `emergency_fund_value`, and set it equal to three times the value of the member’s `monthly_income` of 12000. (You set this earlier in Part 1)."
   ]
  },
  {
   "cell_type": "code",
   "execution_count": 99,
   "metadata": {},
   "outputs": [],
   "source": [
    "# Create a variable named emergency_fund_value\n",
    "# YOUR CODE HERE\n",
    "emergency_fund_value = 3 * monthly_income"
   ]
  },
  {
   "cell_type": "markdown",
   "metadata": {},
   "source": [
    "##### Step 4-2: Create a series of three if statements to determine if the member’s total portfolio is large enough to fund the emergency portfolio:\n",
    "\n",
    "* If the total portfolio value is greater than the emergency fund value, display a message congratulating the member for having enough money in this fund.\n",
    "\n",
    "* Else if the total portfolio value is equal to the emergency fund value, display a message congratulating the member on reaching this important financial goal.\n",
    "\n",
    "* Else the total portfolio is less than the emergency fund value, so display a message showing how many dollars away the member is from reaching the goal. (Subtract the total portfolio value from the emergency fund value.)"
   ]
  },
  {
   "cell_type": "code",
   "execution_count": 100,
   "metadata": {},
   "outputs": [
    {
     "name": "stdout",
     "output_type": "stream",
     "text": [
      "Congratulations, You have enough money for an emergency!\n"
     ]
    }
   ],
   "source": [
    "# Evaluate the possibility of creating an emergency fund with 3 conditions:\n",
    "if total_portfolio > emergency_fund_value:\n",
    "    print(\"Congratulations, You have enough money for an emergency!\")\n",
    "    \n",
    "elif total_portfolio == emergency_fund_value:\n",
    "    print(\"umpire says: SAFE!\")\n",
    "    \n",
    "elif total_portfolio < emergency_fund_value:\n",
    "    print(f\"You are ${emergency_fund_value - total_portfolio} dollars away from your goal!\")\n"
   ]
  },
  {
   "cell_type": "markdown",
   "metadata": {},
   "source": [
    "## Part 2: Create a Financial Planner for Retirement"
   ]
  },
  {
   "cell_type": "markdown",
   "metadata": {},
   "source": [
    "### Create the Monte Carlo Simulation\n",
    "\n",
    "In this section, you’ll use the MCForecastTools library to create a Monte Carlo simulation for the member’s savings portfolio. To do this, complete the following steps:\n",
    "\n",
    "1. Make an API call via the Alpaca SDK to get 3 years of historical closing prices for a traditional 60/40 portfolio split: 60% stocks (SPY) and 40% bonds (AGG).\n",
    "\n",
    "2. Run a Monte Carlo simulation of 500 samples and 30 years for the 60/40 portfolio, and then plot the results.The following image shows the overlay line plot resulting from a simulation with these characteristics. However, because a random number generator is used to run each live Monte Carlo simulation, your image will differ slightly from this exact image:\n",
    "\n",
    "![A screenshot depicts the resulting plot.](Images/5-4-monte-carlo-line-plot.png)\n",
    "\n",
    "3. Plot the probability distribution of the Monte Carlo simulation. Plot the probability distribution of the Monte Carlo simulation. The following image shows the histogram plot resulting from a simulation with these characteristics. However, because a random number generator is used to run each live Monte Carlo simulation, your image will differ slightly from this exact image:\n",
    "\n",
    "![A screenshot depicts the histogram plot.](Images/5-4-monte-carlo-histogram.png)\n",
    "\n",
    "4. Generate the summary statistics for the Monte Carlo simulation.\n",
    "\n"
   ]
  },
  {
   "cell_type": "markdown",
   "metadata": {},
   "source": [
    "#### Step 1: Make an API call via the Alpaca SDK to get 3 years of historical closing prices for a traditional 60/40 portfolio split: 60% stocks (SPY) and 40% bonds (AGG)."
   ]
  },
  {
   "cell_type": "code",
   "execution_count": 103,
   "metadata": {},
   "outputs": [
    {
     "data": {
      "text/html": [
       "<div>\n",
       "<style scoped>\n",
       "    .dataframe tbody tr th:only-of-type {\n",
       "        vertical-align: middle;\n",
       "    }\n",
       "\n",
       "    .dataframe tbody tr th {\n",
       "        vertical-align: top;\n",
       "    }\n",
       "\n",
       "    .dataframe thead th {\n",
       "        text-align: right;\n",
       "    }\n",
       "</style>\n",
       "<table border=\"1\" class=\"dataframe\">\n",
       "  <thead>\n",
       "    <tr style=\"text-align: right;\">\n",
       "      <th></th>\n",
       "      <th>open</th>\n",
       "      <th>high</th>\n",
       "      <th>low</th>\n",
       "      <th>close</th>\n",
       "      <th>volume</th>\n",
       "      <th>trade_count</th>\n",
       "      <th>vwap</th>\n",
       "      <th>symbol</th>\n",
       "    </tr>\n",
       "    <tr>\n",
       "      <th>timestamp</th>\n",
       "      <th></th>\n",
       "      <th></th>\n",
       "      <th></th>\n",
       "      <th></th>\n",
       "      <th></th>\n",
       "      <th></th>\n",
       "      <th></th>\n",
       "      <th></th>\n",
       "    </tr>\n",
       "  </thead>\n",
       "  <tbody>\n",
       "    <tr>\n",
       "      <th>2019-04-16 04:00:00+00:00</th>\n",
       "      <td>108.12</td>\n",
       "      <td>108.2100</td>\n",
       "      <td>108.0200</td>\n",
       "      <td>108.06</td>\n",
       "      <td>4093950</td>\n",
       "      <td>12649</td>\n",
       "      <td>108.108731</td>\n",
       "      <td>AGG</td>\n",
       "    </tr>\n",
       "    <tr>\n",
       "      <th>2019-04-17 04:00:00+00:00</th>\n",
       "      <td>108.09</td>\n",
       "      <td>108.1899</td>\n",
       "      <td>108.0500</td>\n",
       "      <td>108.05</td>\n",
       "      <td>3390171</td>\n",
       "      <td>9569</td>\n",
       "      <td>108.090758</td>\n",
       "      <td>AGG</td>\n",
       "    </tr>\n",
       "    <tr>\n",
       "      <th>2019-04-18 04:00:00+00:00</th>\n",
       "      <td>108.23</td>\n",
       "      <td>108.2900</td>\n",
       "      <td>108.1600</td>\n",
       "      <td>108.19</td>\n",
       "      <td>2217221</td>\n",
       "      <td>8388</td>\n",
       "      <td>108.211849</td>\n",
       "      <td>AGG</td>\n",
       "    </tr>\n",
       "    <tr>\n",
       "      <th>2019-04-22 04:00:00+00:00</th>\n",
       "      <td>108.13</td>\n",
       "      <td>108.1600</td>\n",
       "      <td>108.0500</td>\n",
       "      <td>108.06</td>\n",
       "      <td>5725616</td>\n",
       "      <td>9161</td>\n",
       "      <td>108.098893</td>\n",
       "      <td>AGG</td>\n",
       "    </tr>\n",
       "    <tr>\n",
       "      <th>2019-04-23 04:00:00+00:00</th>\n",
       "      <td>108.18</td>\n",
       "      <td>108.2800</td>\n",
       "      <td>108.1500</td>\n",
       "      <td>108.25</td>\n",
       "      <td>3422712</td>\n",
       "      <td>10779</td>\n",
       "      <td>108.236718</td>\n",
       "      <td>AGG</td>\n",
       "    </tr>\n",
       "    <tr>\n",
       "      <th>...</th>\n",
       "      <td>...</td>\n",
       "      <td>...</td>\n",
       "      <td>...</td>\n",
       "      <td>...</td>\n",
       "      <td>...</td>\n",
       "      <td>...</td>\n",
       "      <td>...</td>\n",
       "      <td>...</td>\n",
       "    </tr>\n",
       "    <tr>\n",
       "      <th>2022-04-08 04:00:00+00:00</th>\n",
       "      <td>448.04</td>\n",
       "      <td>450.6300</td>\n",
       "      <td>445.9400</td>\n",
       "      <td>447.57</td>\n",
       "      <td>79148376</td>\n",
       "      <td>573491</td>\n",
       "      <td>448.250805</td>\n",
       "      <td>SPY</td>\n",
       "    </tr>\n",
       "    <tr>\n",
       "      <th>2022-04-11 04:00:00+00:00</th>\n",
       "      <td>444.11</td>\n",
       "      <td>445.0000</td>\n",
       "      <td>439.3900</td>\n",
       "      <td>439.92</td>\n",
       "      <td>89825549</td>\n",
       "      <td>779421</td>\n",
       "      <td>442.206374</td>\n",
       "      <td>SPY</td>\n",
       "    </tr>\n",
       "    <tr>\n",
       "      <th>2022-04-12 04:00:00+00:00</th>\n",
       "      <td>443.02</td>\n",
       "      <td>445.7500</td>\n",
       "      <td>436.6501</td>\n",
       "      <td>438.29</td>\n",
       "      <td>84020734</td>\n",
       "      <td>694115</td>\n",
       "      <td>440.815476</td>\n",
       "      <td>SPY</td>\n",
       "    </tr>\n",
       "    <tr>\n",
       "      <th>2022-04-13 04:00:00+00:00</th>\n",
       "      <td>437.96</td>\n",
       "      <td>444.1100</td>\n",
       "      <td>437.8400</td>\n",
       "      <td>443.31</td>\n",
       "      <td>73734315</td>\n",
       "      <td>563285</td>\n",
       "      <td>441.262058</td>\n",
       "      <td>SPY</td>\n",
       "    </tr>\n",
       "    <tr>\n",
       "      <th>2022-04-14 04:00:00+00:00</th>\n",
       "      <td>443.44</td>\n",
       "      <td>444.7301</td>\n",
       "      <td>437.6800</td>\n",
       "      <td>437.79</td>\n",
       "      <td>98667135</td>\n",
       "      <td>703727</td>\n",
       "      <td>440.305786</td>\n",
       "      <td>SPY</td>\n",
       "    </tr>\n",
       "  </tbody>\n",
       "</table>\n",
       "<p>1514 rows × 8 columns</p>\n",
       "</div>"
      ],
      "text/plain": [
       "                             open      high       low   close    volume  \\\n",
       "timestamp                                                                 \n",
       "2019-04-16 04:00:00+00:00  108.12  108.2100  108.0200  108.06   4093950   \n",
       "2019-04-17 04:00:00+00:00  108.09  108.1899  108.0500  108.05   3390171   \n",
       "2019-04-18 04:00:00+00:00  108.23  108.2900  108.1600  108.19   2217221   \n",
       "2019-04-22 04:00:00+00:00  108.13  108.1600  108.0500  108.06   5725616   \n",
       "2019-04-23 04:00:00+00:00  108.18  108.2800  108.1500  108.25   3422712   \n",
       "...                           ...       ...       ...     ...       ...   \n",
       "2022-04-08 04:00:00+00:00  448.04  450.6300  445.9400  447.57  79148376   \n",
       "2022-04-11 04:00:00+00:00  444.11  445.0000  439.3900  439.92  89825549   \n",
       "2022-04-12 04:00:00+00:00  443.02  445.7500  436.6501  438.29  84020734   \n",
       "2022-04-13 04:00:00+00:00  437.96  444.1100  437.8400  443.31  73734315   \n",
       "2022-04-14 04:00:00+00:00  443.44  444.7301  437.6800  437.79  98667135   \n",
       "\n",
       "                           trade_count        vwap symbol  \n",
       "timestamp                                                  \n",
       "2019-04-16 04:00:00+00:00        12649  108.108731    AGG  \n",
       "2019-04-17 04:00:00+00:00         9569  108.090758    AGG  \n",
       "2019-04-18 04:00:00+00:00         8388  108.211849    AGG  \n",
       "2019-04-22 04:00:00+00:00         9161  108.098893    AGG  \n",
       "2019-04-23 04:00:00+00:00        10779  108.236718    AGG  \n",
       "...                                ...         ...    ...  \n",
       "2022-04-08 04:00:00+00:00       573491  448.250805    SPY  \n",
       "2022-04-11 04:00:00+00:00       779421  442.206374    SPY  \n",
       "2022-04-12 04:00:00+00:00       694115  440.815476    SPY  \n",
       "2022-04-13 04:00:00+00:00       563285  441.262058    SPY  \n",
       "2022-04-14 04:00:00+00:00       703727  440.305786    SPY  \n",
       "\n",
       "[1514 rows x 8 columns]"
      ]
     },
     "execution_count": 103,
     "metadata": {},
     "output_type": "execute_result"
    }
   ],
   "source": [
    "# Set start and end dates of 3 years back from your current date\n",
    "# Alternatively, you can use an end date of 2020-08-07 and work 3 years back from that date \n",
    "start_date = pd.Timestamp(\"2019-04-16\", tz=\"America/New_York\").isoformat()\n",
    "end_date = pd.Timestamp(\"2022-04-16\", tz=\"America/New_York\").isoformat()\n",
    "\n",
    "tickers = [\"SPY\", \"AGG\"]\n",
    "\n",
    "timeframe = \"1Day\"\n",
    "\n",
    "ticker_data = api.get_bars(\n",
    "    tickers, \n",
    "    timeframe, \n",
    "    start=start_date, \n",
    "    end=end_date\n",
    ").df\n",
    "\n",
    "ticker_data\n",
    "\n"
   ]
  },
  {
   "cell_type": "code",
   "execution_count": 111,
   "metadata": {},
   "outputs": [
    {
     "data": {
      "text/html": [
       "<div>\n",
       "<style scoped>\n",
       "    .dataframe tbody tr th:only-of-type {\n",
       "        vertical-align: middle;\n",
       "    }\n",
       "\n",
       "    .dataframe tbody tr th {\n",
       "        vertical-align: top;\n",
       "    }\n",
       "\n",
       "    .dataframe thead tr th {\n",
       "        text-align: left;\n",
       "    }\n",
       "\n",
       "    .dataframe thead tr:last-of-type th {\n",
       "        text-align: right;\n",
       "    }\n",
       "</style>\n",
       "<table border=\"1\" class=\"dataframe\">\n",
       "  <thead>\n",
       "    <tr>\n",
       "      <th></th>\n",
       "      <th colspan=\"8\" halign=\"left\">SPY</th>\n",
       "      <th colspan=\"8\" halign=\"left\">AGG</th>\n",
       "    </tr>\n",
       "    <tr>\n",
       "      <th></th>\n",
       "      <th>open</th>\n",
       "      <th>high</th>\n",
       "      <th>low</th>\n",
       "      <th>close</th>\n",
       "      <th>volume</th>\n",
       "      <th>trade_count</th>\n",
       "      <th>vwap</th>\n",
       "      <th>symbol</th>\n",
       "      <th>open</th>\n",
       "      <th>high</th>\n",
       "      <th>low</th>\n",
       "      <th>close</th>\n",
       "      <th>volume</th>\n",
       "      <th>trade_count</th>\n",
       "      <th>vwap</th>\n",
       "      <th>symbol</th>\n",
       "    </tr>\n",
       "    <tr>\n",
       "      <th>timestamp</th>\n",
       "      <th></th>\n",
       "      <th></th>\n",
       "      <th></th>\n",
       "      <th></th>\n",
       "      <th></th>\n",
       "      <th></th>\n",
       "      <th></th>\n",
       "      <th></th>\n",
       "      <th></th>\n",
       "      <th></th>\n",
       "      <th></th>\n",
       "      <th></th>\n",
       "      <th></th>\n",
       "      <th></th>\n",
       "      <th></th>\n",
       "      <th></th>\n",
       "    </tr>\n",
       "  </thead>\n",
       "  <tbody>\n",
       "    <tr>\n",
       "      <th>2019-04-16 04:00:00+00:00</th>\n",
       "      <td>290.96</td>\n",
       "      <td>291.010</td>\n",
       "      <td>289.50</td>\n",
       "      <td>290.16</td>\n",
       "      <td>52154597</td>\n",
       "      <td>206469</td>\n",
       "      <td>290.277078</td>\n",
       "      <td>SPY</td>\n",
       "      <td>108.12</td>\n",
       "      <td>108.2100</td>\n",
       "      <td>108.02</td>\n",
       "      <td>108.06</td>\n",
       "      <td>4093950</td>\n",
       "      <td>12649</td>\n",
       "      <td>108.108731</td>\n",
       "      <td>AGG</td>\n",
       "    </tr>\n",
       "    <tr>\n",
       "      <th>2019-04-17 04:00:00+00:00</th>\n",
       "      <td>291.41</td>\n",
       "      <td>291.425</td>\n",
       "      <td>288.99</td>\n",
       "      <td>289.45</td>\n",
       "      <td>58268470</td>\n",
       "      <td>245037</td>\n",
       "      <td>289.770682</td>\n",
       "      <td>SPY</td>\n",
       "      <td>108.09</td>\n",
       "      <td>108.1899</td>\n",
       "      <td>108.05</td>\n",
       "      <td>108.05</td>\n",
       "      <td>3390171</td>\n",
       "      <td>9569</td>\n",
       "      <td>108.090758</td>\n",
       "      <td>AGG</td>\n",
       "    </tr>\n",
       "    <tr>\n",
       "      <th>2019-04-18 04:00:00+00:00</th>\n",
       "      <td>290.12</td>\n",
       "      <td>290.320</td>\n",
       "      <td>288.66</td>\n",
       "      <td>290.02</td>\n",
       "      <td>69414428</td>\n",
       "      <td>231296</td>\n",
       "      <td>289.794161</td>\n",
       "      <td>SPY</td>\n",
       "      <td>108.23</td>\n",
       "      <td>108.2900</td>\n",
       "      <td>108.16</td>\n",
       "      <td>108.19</td>\n",
       "      <td>2217221</td>\n",
       "      <td>8388</td>\n",
       "      <td>108.211849</td>\n",
       "      <td>AGG</td>\n",
       "    </tr>\n",
       "    <tr>\n",
       "      <th>2019-04-22 04:00:00+00:00</th>\n",
       "      <td>289.17</td>\n",
       "      <td>290.435</td>\n",
       "      <td>289.07</td>\n",
       "      <td>290.27</td>\n",
       "      <td>40520264</td>\n",
       "      <td>170767</td>\n",
       "      <td>290.002934</td>\n",
       "      <td>SPY</td>\n",
       "      <td>108.13</td>\n",
       "      <td>108.1600</td>\n",
       "      <td>108.05</td>\n",
       "      <td>108.06</td>\n",
       "      <td>5725616</td>\n",
       "      <td>9161</td>\n",
       "      <td>108.098893</td>\n",
       "      <td>AGG</td>\n",
       "    </tr>\n",
       "    <tr>\n",
       "      <th>2019-04-23 04:00:00+00:00</th>\n",
       "      <td>290.68</td>\n",
       "      <td>293.140</td>\n",
       "      <td>290.42</td>\n",
       "      <td>292.88</td>\n",
       "      <td>52411775</td>\n",
       "      <td>232023</td>\n",
       "      <td>292.102165</td>\n",
       "      <td>SPY</td>\n",
       "      <td>108.18</td>\n",
       "      <td>108.2800</td>\n",
       "      <td>108.15</td>\n",
       "      <td>108.25</td>\n",
       "      <td>3422712</td>\n",
       "      <td>10779</td>\n",
       "      <td>108.236718</td>\n",
       "      <td>AGG</td>\n",
       "    </tr>\n",
       "  </tbody>\n",
       "</table>\n",
       "</div>"
      ],
      "text/plain": [
       "                              SPY                                     \\\n",
       "                             open     high     low   close    volume   \n",
       "timestamp                                                              \n",
       "2019-04-16 04:00:00+00:00  290.96  291.010  289.50  290.16  52154597   \n",
       "2019-04-17 04:00:00+00:00  291.41  291.425  288.99  289.45  58268470   \n",
       "2019-04-18 04:00:00+00:00  290.12  290.320  288.66  290.02  69414428   \n",
       "2019-04-22 04:00:00+00:00  289.17  290.435  289.07  290.27  40520264   \n",
       "2019-04-23 04:00:00+00:00  290.68  293.140  290.42  292.88  52411775   \n",
       "\n",
       "                                                             AGG            \\\n",
       "                          trade_count        vwap symbol    open      high   \n",
       "timestamp                                                                    \n",
       "2019-04-16 04:00:00+00:00      206469  290.277078    SPY  108.12  108.2100   \n",
       "2019-04-17 04:00:00+00:00      245037  289.770682    SPY  108.09  108.1899   \n",
       "2019-04-18 04:00:00+00:00      231296  289.794161    SPY  108.23  108.2900   \n",
       "2019-04-22 04:00:00+00:00      170767  290.002934    SPY  108.13  108.1600   \n",
       "2019-04-23 04:00:00+00:00      232023  292.102165    SPY  108.18  108.2800   \n",
       "\n",
       "                                                                            \\\n",
       "                              low   close   volume trade_count        vwap   \n",
       "timestamp                                                                    \n",
       "2019-04-16 04:00:00+00:00  108.02  108.06  4093950       12649  108.108731   \n",
       "2019-04-17 04:00:00+00:00  108.05  108.05  3390171        9569  108.090758   \n",
       "2019-04-18 04:00:00+00:00  108.16  108.19  2217221        8388  108.211849   \n",
       "2019-04-22 04:00:00+00:00  108.05  108.06  5725616        9161  108.098893   \n",
       "2019-04-23 04:00:00+00:00  108.15  108.25  3422712       10779  108.236718   \n",
       "\n",
       "                                  \n",
       "                          symbol  \n",
       "timestamp                         \n",
       "2019-04-16 04:00:00+00:00    AGG  \n",
       "2019-04-17 04:00:00+00:00    AGG  \n",
       "2019-04-18 04:00:00+00:00    AGG  \n",
       "2019-04-22 04:00:00+00:00    AGG  \n",
       "2019-04-23 04:00:00+00:00    AGG  "
      ]
     },
     "metadata": {},
     "output_type": "display_data"
    },
    {
     "data": {
      "text/html": [
       "<div>\n",
       "<style scoped>\n",
       "    .dataframe tbody tr th:only-of-type {\n",
       "        vertical-align: middle;\n",
       "    }\n",
       "\n",
       "    .dataframe tbody tr th {\n",
       "        vertical-align: top;\n",
       "    }\n",
       "\n",
       "    .dataframe thead tr th {\n",
       "        text-align: left;\n",
       "    }\n",
       "\n",
       "    .dataframe thead tr:last-of-type th {\n",
       "        text-align: right;\n",
       "    }\n",
       "</style>\n",
       "<table border=\"1\" class=\"dataframe\">\n",
       "  <thead>\n",
       "    <tr>\n",
       "      <th></th>\n",
       "      <th colspan=\"8\" halign=\"left\">SPY</th>\n",
       "      <th colspan=\"8\" halign=\"left\">AGG</th>\n",
       "    </tr>\n",
       "    <tr>\n",
       "      <th></th>\n",
       "      <th>open</th>\n",
       "      <th>high</th>\n",
       "      <th>low</th>\n",
       "      <th>close</th>\n",
       "      <th>volume</th>\n",
       "      <th>trade_count</th>\n",
       "      <th>vwap</th>\n",
       "      <th>symbol</th>\n",
       "      <th>open</th>\n",
       "      <th>high</th>\n",
       "      <th>low</th>\n",
       "      <th>close</th>\n",
       "      <th>volume</th>\n",
       "      <th>trade_count</th>\n",
       "      <th>vwap</th>\n",
       "      <th>symbol</th>\n",
       "    </tr>\n",
       "    <tr>\n",
       "      <th>timestamp</th>\n",
       "      <th></th>\n",
       "      <th></th>\n",
       "      <th></th>\n",
       "      <th></th>\n",
       "      <th></th>\n",
       "      <th></th>\n",
       "      <th></th>\n",
       "      <th></th>\n",
       "      <th></th>\n",
       "      <th></th>\n",
       "      <th></th>\n",
       "      <th></th>\n",
       "      <th></th>\n",
       "      <th></th>\n",
       "      <th></th>\n",
       "      <th></th>\n",
       "    </tr>\n",
       "  </thead>\n",
       "  <tbody>\n",
       "    <tr>\n",
       "      <th>2022-04-08 04:00:00+00:00</th>\n",
       "      <td>448.04</td>\n",
       "      <td>450.6300</td>\n",
       "      <td>445.9400</td>\n",
       "      <td>447.57</td>\n",
       "      <td>79148376</td>\n",
       "      <td>573491</td>\n",
       "      <td>448.250805</td>\n",
       "      <td>SPY</td>\n",
       "      <td>104.82</td>\n",
       "      <td>105.010</td>\n",
       "      <td>104.615</td>\n",
       "      <td>104.73</td>\n",
       "      <td>6501822</td>\n",
       "      <td>24900</td>\n",
       "      <td>104.804999</td>\n",
       "      <td>AGG</td>\n",
       "    </tr>\n",
       "    <tr>\n",
       "      <th>2022-04-11 04:00:00+00:00</th>\n",
       "      <td>444.11</td>\n",
       "      <td>445.0000</td>\n",
       "      <td>439.3900</td>\n",
       "      <td>439.92</td>\n",
       "      <td>89825549</td>\n",
       "      <td>779421</td>\n",
       "      <td>442.206374</td>\n",
       "      <td>SPY</td>\n",
       "      <td>104.44</td>\n",
       "      <td>104.505</td>\n",
       "      <td>104.170</td>\n",
       "      <td>104.28</td>\n",
       "      <td>8377902</td>\n",
       "      <td>29767</td>\n",
       "      <td>104.312835</td>\n",
       "      <td>AGG</td>\n",
       "    </tr>\n",
       "    <tr>\n",
       "      <th>2022-04-12 04:00:00+00:00</th>\n",
       "      <td>443.02</td>\n",
       "      <td>445.7500</td>\n",
       "      <td>436.6501</td>\n",
       "      <td>438.29</td>\n",
       "      <td>84020734</td>\n",
       "      <td>694115</td>\n",
       "      <td>440.815476</td>\n",
       "      <td>SPY</td>\n",
       "      <td>104.83</td>\n",
       "      <td>104.920</td>\n",
       "      <td>104.580</td>\n",
       "      <td>104.61</td>\n",
       "      <td>8448652</td>\n",
       "      <td>29955</td>\n",
       "      <td>104.740856</td>\n",
       "      <td>AGG</td>\n",
       "    </tr>\n",
       "    <tr>\n",
       "      <th>2022-04-13 04:00:00+00:00</th>\n",
       "      <td>437.96</td>\n",
       "      <td>444.1100</td>\n",
       "      <td>437.8400</td>\n",
       "      <td>443.31</td>\n",
       "      <td>73734315</td>\n",
       "      <td>563285</td>\n",
       "      <td>441.262058</td>\n",
       "      <td>SPY</td>\n",
       "      <td>104.77</td>\n",
       "      <td>105.090</td>\n",
       "      <td>104.740</td>\n",
       "      <td>104.82</td>\n",
       "      <td>6868550</td>\n",
       "      <td>27348</td>\n",
       "      <td>104.889799</td>\n",
       "      <td>AGG</td>\n",
       "    </tr>\n",
       "    <tr>\n",
       "      <th>2022-04-14 04:00:00+00:00</th>\n",
       "      <td>443.44</td>\n",
       "      <td>444.7301</td>\n",
       "      <td>437.6800</td>\n",
       "      <td>437.79</td>\n",
       "      <td>98667135</td>\n",
       "      <td>703727</td>\n",
       "      <td>440.305786</td>\n",
       "      <td>SPY</td>\n",
       "      <td>104.73</td>\n",
       "      <td>104.740</td>\n",
       "      <td>103.930</td>\n",
       "      <td>103.97</td>\n",
       "      <td>8505987</td>\n",
       "      <td>30443</td>\n",
       "      <td>104.171733</td>\n",
       "      <td>AGG</td>\n",
       "    </tr>\n",
       "  </tbody>\n",
       "</table>\n",
       "</div>"
      ],
      "text/plain": [
       "                              SPY                                        \\\n",
       "                             open      high       low   close    volume   \n",
       "timestamp                                                                 \n",
       "2022-04-08 04:00:00+00:00  448.04  450.6300  445.9400  447.57  79148376   \n",
       "2022-04-11 04:00:00+00:00  444.11  445.0000  439.3900  439.92  89825549   \n",
       "2022-04-12 04:00:00+00:00  443.02  445.7500  436.6501  438.29  84020734   \n",
       "2022-04-13 04:00:00+00:00  437.96  444.1100  437.8400  443.31  73734315   \n",
       "2022-04-14 04:00:00+00:00  443.44  444.7301  437.6800  437.79  98667135   \n",
       "\n",
       "                                                             AGG           \\\n",
       "                          trade_count        vwap symbol    open     high   \n",
       "timestamp                                                                   \n",
       "2022-04-08 04:00:00+00:00      573491  448.250805    SPY  104.82  105.010   \n",
       "2022-04-11 04:00:00+00:00      779421  442.206374    SPY  104.44  104.505   \n",
       "2022-04-12 04:00:00+00:00      694115  440.815476    SPY  104.83  104.920   \n",
       "2022-04-13 04:00:00+00:00      563285  441.262058    SPY  104.77  105.090   \n",
       "2022-04-14 04:00:00+00:00      703727  440.305786    SPY  104.73  104.740   \n",
       "\n",
       "                                                                             \\\n",
       "                               low   close   volume trade_count        vwap   \n",
       "timestamp                                                                     \n",
       "2022-04-08 04:00:00+00:00  104.615  104.73  6501822       24900  104.804999   \n",
       "2022-04-11 04:00:00+00:00  104.170  104.28  8377902       29767  104.312835   \n",
       "2022-04-12 04:00:00+00:00  104.580  104.61  8448652       29955  104.740856   \n",
       "2022-04-13 04:00:00+00:00  104.740  104.82  6868550       27348  104.889799   \n",
       "2022-04-14 04:00:00+00:00  103.930  103.97  8505987       30443  104.171733   \n",
       "\n",
       "                                  \n",
       "                          symbol  \n",
       "timestamp                         \n",
       "2022-04-08 04:00:00+00:00    AGG  \n",
       "2022-04-11 04:00:00+00:00    AGG  \n",
       "2022-04-12 04:00:00+00:00    AGG  \n",
       "2022-04-13 04:00:00+00:00    AGG  \n",
       "2022-04-14 04:00:00+00:00    AGG  "
      ]
     },
     "metadata": {},
     "output_type": "display_data"
    }
   ],
   "source": [
    "# Use the Alpaca get_bars function to make the API call to get the 3 years worth of pricing data\n",
    "# The tickers and timeframe parameters should have been set in Part 1 of this activity \n",
    "# The start and end dates should be updated with the information set above\n",
    "# Remember to add the df property to the end of the call so the response is returned as a DataFrame\n",
    "# YOUR CODE HERE\n",
    "\n",
    "# Reorganize the DataFrame\n",
    "# Separate ticker data\n",
    "agg = ticker_data[ticker_data['symbol'] == \"AGG\"]\n",
    "spy = ticker_data[ticker_data['symbol'] == \"SPY\"]\n",
    "spy\n",
    "\n",
    "# Concatenate the ticker DataFrames\n",
    "df = pd.concat([spy, agg], axis=1, keys=tickers)\n",
    "\n",
    "# Display both the first and last five rows of the DataFrame\n",
    "display(df.head())\n",
    "display(df.tail())\n"
   ]
  },
  {
   "cell_type": "markdown",
   "metadata": {},
   "source": [
    "#### Step 2: Run a Monte Carlo simulation of 500 samples and 30 years for the 60/40 portfolio, and then plot the results."
   ]
  },
  {
   "cell_type": "code",
   "execution_count": 158,
   "metadata": {},
   "outputs": [],
   "source": [
    "# Configure the Monte Carlo simulation to forecast 30 years cumulative returns\n",
    "# The weights should be split 40% to AGG and 60% to SPY.\n",
    "# Run 500 samples.\n",
    "num_sims = 500\n",
    "\n",
    "# Review the simulation input data\n",
    "MC = MCSimulation(\n",
    "    portfolio_data = df,\n",
    "    weights=[0.6, 0.4],\n",
    "    num_simulation = num_sims, \n",
    "    num_trading_days = 252*30    \n",
    ")\n"
   ]
  },
  {
   "cell_type": "code",
   "execution_count": 159,
   "metadata": {},
   "outputs": [
    {
     "name": "stdout",
     "output_type": "stream",
     "text": [
      "Running Monte Carlo simulation number 0.\n",
      "Running Monte Carlo simulation number 10.\n",
      "Running Monte Carlo simulation number 20.\n",
      "Running Monte Carlo simulation number 30.\n",
      "Running Monte Carlo simulation number 40.\n",
      "Running Monte Carlo simulation number 50.\n",
      "Running Monte Carlo simulation number 60.\n",
      "Running Monte Carlo simulation number 70.\n",
      "Running Monte Carlo simulation number 80.\n",
      "Running Monte Carlo simulation number 90.\n",
      "Running Monte Carlo simulation number 100.\n"
     ]
    },
    {
     "name": "stderr",
     "output_type": "stream",
     "text": [
      "/Users/alfonso/Downloads/Starter_Code/MCForecastTools.py:117: PerformanceWarning: DataFrame is highly fragmented.  This is usually the result of calling `frame.insert` many times, which has poor performance.  Consider joining all columns at once using pd.concat(axis=1) instead.  To get a de-fragmented frame, use `newframe = frame.copy()`\n",
      "  portfolio_cumulative_returns[n] = (1 + sim_df.fillna(0)).cumprod()\n"
     ]
    },
    {
     "name": "stdout",
     "output_type": "stream",
     "text": [
      "Running Monte Carlo simulation number 110.\n",
      "Running Monte Carlo simulation number 120.\n",
      "Running Monte Carlo simulation number 130.\n",
      "Running Monte Carlo simulation number 140.\n",
      "Running Monte Carlo simulation number 150.\n",
      "Running Monte Carlo simulation number 160.\n",
      "Running Monte Carlo simulation number 170.\n",
      "Running Monte Carlo simulation number 180.\n",
      "Running Monte Carlo simulation number 190.\n",
      "Running Monte Carlo simulation number 200.\n",
      "Running Monte Carlo simulation number 210.\n",
      "Running Monte Carlo simulation number 220.\n",
      "Running Monte Carlo simulation number 230.\n",
      "Running Monte Carlo simulation number 240.\n",
      "Running Monte Carlo simulation number 250.\n",
      "Running Monte Carlo simulation number 260.\n",
      "Running Monte Carlo simulation number 270.\n",
      "Running Monte Carlo simulation number 280.\n",
      "Running Monte Carlo simulation number 290.\n",
      "Running Monte Carlo simulation number 300.\n",
      "Running Monte Carlo simulation number 310.\n",
      "Running Monte Carlo simulation number 320.\n",
      "Running Monte Carlo simulation number 330.\n",
      "Running Monte Carlo simulation number 340.\n",
      "Running Monte Carlo simulation number 350.\n",
      "Running Monte Carlo simulation number 360.\n",
      "Running Monte Carlo simulation number 370.\n",
      "Running Monte Carlo simulation number 380.\n",
      "Running Monte Carlo simulation number 390.\n",
      "Running Monte Carlo simulation number 400.\n",
      "Running Monte Carlo simulation number 410.\n",
      "Running Monte Carlo simulation number 420.\n",
      "Running Monte Carlo simulation number 430.\n",
      "Running Monte Carlo simulation number 440.\n",
      "Running Monte Carlo simulation number 450.\n",
      "Running Monte Carlo simulation number 460.\n",
      "Running Monte Carlo simulation number 470.\n",
      "Running Monte Carlo simulation number 480.\n",
      "Running Monte Carlo simulation number 490.\n"
     ]
    },
    {
     "data": {
      "text/html": [
       "<div>\n",
       "<style scoped>\n",
       "    .dataframe tbody tr th:only-of-type {\n",
       "        vertical-align: middle;\n",
       "    }\n",
       "\n",
       "    .dataframe tbody tr th {\n",
       "        vertical-align: top;\n",
       "    }\n",
       "\n",
       "    .dataframe thead th {\n",
       "        text-align: right;\n",
       "    }\n",
       "</style>\n",
       "<table border=\"1\" class=\"dataframe\">\n",
       "  <thead>\n",
       "    <tr style=\"text-align: right;\">\n",
       "      <th></th>\n",
       "      <th>0</th>\n",
       "      <th>1</th>\n",
       "      <th>2</th>\n",
       "      <th>3</th>\n",
       "      <th>4</th>\n",
       "      <th>5</th>\n",
       "      <th>6</th>\n",
       "      <th>7</th>\n",
       "      <th>8</th>\n",
       "      <th>9</th>\n",
       "      <th>...</th>\n",
       "      <th>490</th>\n",
       "      <th>491</th>\n",
       "      <th>492</th>\n",
       "      <th>493</th>\n",
       "      <th>494</th>\n",
       "      <th>495</th>\n",
       "      <th>496</th>\n",
       "      <th>497</th>\n",
       "      <th>498</th>\n",
       "      <th>499</th>\n",
       "    </tr>\n",
       "  </thead>\n",
       "  <tbody>\n",
       "    <tr>\n",
       "      <th>0</th>\n",
       "      <td>1.000000</td>\n",
       "      <td>1.000000</td>\n",
       "      <td>1.000000</td>\n",
       "      <td>1.000000</td>\n",
       "      <td>1.000000</td>\n",
       "      <td>1.000000</td>\n",
       "      <td>1.000000</td>\n",
       "      <td>1.000000</td>\n",
       "      <td>1.000000</td>\n",
       "      <td>1.000000</td>\n",
       "      <td>...</td>\n",
       "      <td>1.000000</td>\n",
       "      <td>1.000000</td>\n",
       "      <td>1.000000</td>\n",
       "      <td>1.000000</td>\n",
       "      <td>1.000000</td>\n",
       "      <td>1.000000</td>\n",
       "      <td>1.000000</td>\n",
       "      <td>1.000000</td>\n",
       "      <td>1.000000</td>\n",
       "      <td>1.000000</td>\n",
       "    </tr>\n",
       "    <tr>\n",
       "      <th>1</th>\n",
       "      <td>1.007143</td>\n",
       "      <td>0.987815</td>\n",
       "      <td>1.001095</td>\n",
       "      <td>1.006803</td>\n",
       "      <td>1.003089</td>\n",
       "      <td>1.007159</td>\n",
       "      <td>0.999168</td>\n",
       "      <td>0.984515</td>\n",
       "      <td>0.991644</td>\n",
       "      <td>1.009633</td>\n",
       "      <td>...</td>\n",
       "      <td>0.997749</td>\n",
       "      <td>1.004262</td>\n",
       "      <td>1.008641</td>\n",
       "      <td>0.997851</td>\n",
       "      <td>0.993283</td>\n",
       "      <td>1.000485</td>\n",
       "      <td>1.002774</td>\n",
       "      <td>1.012255</td>\n",
       "      <td>0.994964</td>\n",
       "      <td>1.005818</td>\n",
       "    </tr>\n",
       "    <tr>\n",
       "      <th>2</th>\n",
       "      <td>0.995476</td>\n",
       "      <td>0.985067</td>\n",
       "      <td>1.006494</td>\n",
       "      <td>0.996192</td>\n",
       "      <td>0.990912</td>\n",
       "      <td>0.995583</td>\n",
       "      <td>0.987002</td>\n",
       "      <td>0.986068</td>\n",
       "      <td>0.996666</td>\n",
       "      <td>1.022039</td>\n",
       "      <td>...</td>\n",
       "      <td>0.996134</td>\n",
       "      <td>1.012837</td>\n",
       "      <td>1.013364</td>\n",
       "      <td>0.993052</td>\n",
       "      <td>0.998175</td>\n",
       "      <td>0.992649</td>\n",
       "      <td>0.990574</td>\n",
       "      <td>1.017759</td>\n",
       "      <td>1.001718</td>\n",
       "      <td>1.002968</td>\n",
       "    </tr>\n",
       "    <tr>\n",
       "      <th>3</th>\n",
       "      <td>1.014844</td>\n",
       "      <td>0.987947</td>\n",
       "      <td>0.983171</td>\n",
       "      <td>0.984459</td>\n",
       "      <td>0.987883</td>\n",
       "      <td>0.985017</td>\n",
       "      <td>0.974925</td>\n",
       "      <td>0.991767</td>\n",
       "      <td>0.990890</td>\n",
       "      <td>1.010095</td>\n",
       "      <td>...</td>\n",
       "      <td>0.993090</td>\n",
       "      <td>1.021887</td>\n",
       "      <td>1.017810</td>\n",
       "      <td>0.992622</td>\n",
       "      <td>1.003611</td>\n",
       "      <td>0.993772</td>\n",
       "      <td>0.993396</td>\n",
       "      <td>1.023636</td>\n",
       "      <td>0.998480</td>\n",
       "      <td>1.000247</td>\n",
       "    </tr>\n",
       "    <tr>\n",
       "      <th>4</th>\n",
       "      <td>1.022235</td>\n",
       "      <td>0.993220</td>\n",
       "      <td>0.989272</td>\n",
       "      <td>0.981491</td>\n",
       "      <td>0.991920</td>\n",
       "      <td>0.978351</td>\n",
       "      <td>0.983519</td>\n",
       "      <td>1.009200</td>\n",
       "      <td>0.992358</td>\n",
       "      <td>1.022885</td>\n",
       "      <td>...</td>\n",
       "      <td>1.009282</td>\n",
       "      <td>1.038652</td>\n",
       "      <td>1.038398</td>\n",
       "      <td>0.982463</td>\n",
       "      <td>0.986399</td>\n",
       "      <td>0.986664</td>\n",
       "      <td>0.976051</td>\n",
       "      <td>1.023154</td>\n",
       "      <td>1.002872</td>\n",
       "      <td>0.991343</td>\n",
       "    </tr>\n",
       "    <tr>\n",
       "      <th>...</th>\n",
       "      <td>...</td>\n",
       "      <td>...</td>\n",
       "      <td>...</td>\n",
       "      <td>...</td>\n",
       "      <td>...</td>\n",
       "      <td>...</td>\n",
       "      <td>...</td>\n",
       "      <td>...</td>\n",
       "      <td>...</td>\n",
       "      <td>...</td>\n",
       "      <td>...</td>\n",
       "      <td>...</td>\n",
       "      <td>...</td>\n",
       "      <td>...</td>\n",
       "      <td>...</td>\n",
       "      <td>...</td>\n",
       "      <td>...</td>\n",
       "      <td>...</td>\n",
       "      <td>...</td>\n",
       "      <td>...</td>\n",
       "      <td>...</td>\n",
       "    </tr>\n",
       "    <tr>\n",
       "      <th>7556</th>\n",
       "      <td>41.781897</td>\n",
       "      <td>54.041156</td>\n",
       "      <td>11.703678</td>\n",
       "      <td>21.940861</td>\n",
       "      <td>5.554868</td>\n",
       "      <td>11.038686</td>\n",
       "      <td>7.821465</td>\n",
       "      <td>10.203841</td>\n",
       "      <td>11.911552</td>\n",
       "      <td>8.924895</td>\n",
       "      <td>...</td>\n",
       "      <td>42.565583</td>\n",
       "      <td>5.845948</td>\n",
       "      <td>17.891235</td>\n",
       "      <td>6.696933</td>\n",
       "      <td>9.494498</td>\n",
       "      <td>15.079219</td>\n",
       "      <td>22.612782</td>\n",
       "      <td>12.994019</td>\n",
       "      <td>8.776559</td>\n",
       "      <td>10.128167</td>\n",
       "    </tr>\n",
       "    <tr>\n",
       "      <th>7557</th>\n",
       "      <td>41.661790</td>\n",
       "      <td>53.911893</td>\n",
       "      <td>11.680154</td>\n",
       "      <td>21.644785</td>\n",
       "      <td>5.565063</td>\n",
       "      <td>11.161898</td>\n",
       "      <td>7.824414</td>\n",
       "      <td>10.169849</td>\n",
       "      <td>11.972844</td>\n",
       "      <td>9.003160</td>\n",
       "      <td>...</td>\n",
       "      <td>42.244784</td>\n",
       "      <td>5.760651</td>\n",
       "      <td>17.887261</td>\n",
       "      <td>6.652210</td>\n",
       "      <td>9.678364</td>\n",
       "      <td>15.333670</td>\n",
       "      <td>22.361947</td>\n",
       "      <td>13.117240</td>\n",
       "      <td>8.865540</td>\n",
       "      <td>10.121923</td>\n",
       "    </tr>\n",
       "    <tr>\n",
       "      <th>7558</th>\n",
       "      <td>41.472041</td>\n",
       "      <td>53.840197</td>\n",
       "      <td>11.794029</td>\n",
       "      <td>21.831698</td>\n",
       "      <td>5.578721</td>\n",
       "      <td>11.087707</td>\n",
       "      <td>7.779740</td>\n",
       "      <td>10.059300</td>\n",
       "      <td>12.022006</td>\n",
       "      <td>8.970056</td>\n",
       "      <td>...</td>\n",
       "      <td>42.759977</td>\n",
       "      <td>5.870874</td>\n",
       "      <td>17.873127</td>\n",
       "      <td>6.625188</td>\n",
       "      <td>9.594321</td>\n",
       "      <td>15.453317</td>\n",
       "      <td>22.227553</td>\n",
       "      <td>13.107294</td>\n",
       "      <td>8.595775</td>\n",
       "      <td>10.091320</td>\n",
       "    </tr>\n",
       "    <tr>\n",
       "      <th>7559</th>\n",
       "      <td>41.748038</td>\n",
       "      <td>53.994918</td>\n",
       "      <td>11.819723</td>\n",
       "      <td>21.766046</td>\n",
       "      <td>5.593932</td>\n",
       "      <td>11.137163</td>\n",
       "      <td>7.750954</td>\n",
       "      <td>10.184668</td>\n",
       "      <td>11.994600</td>\n",
       "      <td>9.016949</td>\n",
       "      <td>...</td>\n",
       "      <td>42.767139</td>\n",
       "      <td>5.855396</td>\n",
       "      <td>18.147359</td>\n",
       "      <td>6.704012</td>\n",
       "      <td>9.586389</td>\n",
       "      <td>15.609472</td>\n",
       "      <td>22.377340</td>\n",
       "      <td>13.182658</td>\n",
       "      <td>8.515266</td>\n",
       "      <td>10.112803</td>\n",
       "    </tr>\n",
       "    <tr>\n",
       "      <th>7560</th>\n",
       "      <td>42.012172</td>\n",
       "      <td>54.349947</td>\n",
       "      <td>11.843950</td>\n",
       "      <td>21.488958</td>\n",
       "      <td>5.566983</td>\n",
       "      <td>11.221679</td>\n",
       "      <td>7.716914</td>\n",
       "      <td>10.146806</td>\n",
       "      <td>12.015775</td>\n",
       "      <td>9.101634</td>\n",
       "      <td>...</td>\n",
       "      <td>43.322739</td>\n",
       "      <td>5.876450</td>\n",
       "      <td>17.992096</td>\n",
       "      <td>6.803003</td>\n",
       "      <td>9.559997</td>\n",
       "      <td>15.777922</td>\n",
       "      <td>22.797731</td>\n",
       "      <td>13.194247</td>\n",
       "      <td>8.503257</td>\n",
       "      <td>10.081750</td>\n",
       "    </tr>\n",
       "  </tbody>\n",
       "</table>\n",
       "<p>7561 rows × 500 columns</p>\n",
       "</div>"
      ],
      "text/plain": [
       "            0          1          2          3         4          5    \\\n",
       "0      1.000000   1.000000   1.000000   1.000000  1.000000   1.000000   \n",
       "1      1.007143   0.987815   1.001095   1.006803  1.003089   1.007159   \n",
       "2      0.995476   0.985067   1.006494   0.996192  0.990912   0.995583   \n",
       "3      1.014844   0.987947   0.983171   0.984459  0.987883   0.985017   \n",
       "4      1.022235   0.993220   0.989272   0.981491  0.991920   0.978351   \n",
       "...         ...        ...        ...        ...       ...        ...   \n",
       "7556  41.781897  54.041156  11.703678  21.940861  5.554868  11.038686   \n",
       "7557  41.661790  53.911893  11.680154  21.644785  5.565063  11.161898   \n",
       "7558  41.472041  53.840197  11.794029  21.831698  5.578721  11.087707   \n",
       "7559  41.748038  53.994918  11.819723  21.766046  5.593932  11.137163   \n",
       "7560  42.012172  54.349947  11.843950  21.488958  5.566983  11.221679   \n",
       "\n",
       "           6          7          8         9    ...        490       491  \\\n",
       "0     1.000000   1.000000   1.000000  1.000000  ...   1.000000  1.000000   \n",
       "1     0.999168   0.984515   0.991644  1.009633  ...   0.997749  1.004262   \n",
       "2     0.987002   0.986068   0.996666  1.022039  ...   0.996134  1.012837   \n",
       "3     0.974925   0.991767   0.990890  1.010095  ...   0.993090  1.021887   \n",
       "4     0.983519   1.009200   0.992358  1.022885  ...   1.009282  1.038652   \n",
       "...        ...        ...        ...       ...  ...        ...       ...   \n",
       "7556  7.821465  10.203841  11.911552  8.924895  ...  42.565583  5.845948   \n",
       "7557  7.824414  10.169849  11.972844  9.003160  ...  42.244784  5.760651   \n",
       "7558  7.779740  10.059300  12.022006  8.970056  ...  42.759977  5.870874   \n",
       "7559  7.750954  10.184668  11.994600  9.016949  ...  42.767139  5.855396   \n",
       "7560  7.716914  10.146806  12.015775  9.101634  ...  43.322739  5.876450   \n",
       "\n",
       "            492       493       494        495        496        497  \\\n",
       "0      1.000000  1.000000  1.000000   1.000000   1.000000   1.000000   \n",
       "1      1.008641  0.997851  0.993283   1.000485   1.002774   1.012255   \n",
       "2      1.013364  0.993052  0.998175   0.992649   0.990574   1.017759   \n",
       "3      1.017810  0.992622  1.003611   0.993772   0.993396   1.023636   \n",
       "4      1.038398  0.982463  0.986399   0.986664   0.976051   1.023154   \n",
       "...         ...       ...       ...        ...        ...        ...   \n",
       "7556  17.891235  6.696933  9.494498  15.079219  22.612782  12.994019   \n",
       "7557  17.887261  6.652210  9.678364  15.333670  22.361947  13.117240   \n",
       "7558  17.873127  6.625188  9.594321  15.453317  22.227553  13.107294   \n",
       "7559  18.147359  6.704012  9.586389  15.609472  22.377340  13.182658   \n",
       "7560  17.992096  6.803003  9.559997  15.777922  22.797731  13.194247   \n",
       "\n",
       "           498        499  \n",
       "0     1.000000   1.000000  \n",
       "1     0.994964   1.005818  \n",
       "2     1.001718   1.002968  \n",
       "3     0.998480   1.000247  \n",
       "4     1.002872   0.991343  \n",
       "...        ...        ...  \n",
       "7556  8.776559  10.128167  \n",
       "7557  8.865540  10.121923  \n",
       "7558  8.595775  10.091320  \n",
       "7559  8.515266  10.112803  \n",
       "7560  8.503257  10.081750  \n",
       "\n",
       "[7561 rows x 500 columns]"
      ]
     },
     "execution_count": 159,
     "metadata": {},
     "output_type": "execute_result"
    }
   ],
   "source": [
    "# Run the Monte Carlo simulation to forecast 30 years cumulative returns\n",
    "\n",
    "MC.calc_cumulative_return()"
   ]
  },
  {
   "cell_type": "code",
   "execution_count": 162,
   "metadata": {},
   "outputs": [
    {
     "data": {
      "text/plain": [
       "<AxesSubplot:title={'center':'500 Simulations of Cumulative Portfolio Return Trajectories Over the Next 7560 Trading Days.'}>"
      ]
     },
     "execution_count": 162,
     "metadata": {},
     "output_type": "execute_result"
    },
    {
     "data": {
      "image/png": "[encoded data removed]",
      "text/plain": [
       "<Figure size 432x288 with 1 Axes>"
      ]
     },
     "metadata": {
      "needs_background": "light"
     },
     "output_type": "display_data"
    }
   ],
   "source": [
    "# Visualize the 30-year Monte Carlo simulation by creating an\n",
    "# overlay line plot\n",
    "MC.plot_simulation()\n"
   ]
  },
  {
   "cell_type": "markdown",
   "metadata": {},
   "source": [
    "#### Step 3: Plot the probability distribution of the Monte Carlo simulation."
   ]
  },
  {
   "cell_type": "code",
   "execution_count": 163,
   "metadata": {},
   "outputs": [
    {
     "data": {
      "text/plain": [
       "<AxesSubplot:title={'center':'Distribution of Final Cumuluative Returns Across All 500 Simulations'}, ylabel='Frequency'>"
      ]
     },
     "execution_count": 163,
     "metadata": {},
     "output_type": "execute_result"
    },
    {
     "data": {
      "image/png": "[encoded data removed]",
      "text/plain": [
       "<Figure size 432x288 with 1 Axes>"
      ]
     },
     "metadata": {
      "needs_background": "light"
     },
     "output_type": "display_data"
    }
   ],
   "source": [
    "# Visualize the probability distribution of the 30-year Monte Carlo simulation \n",
    "# by plotting a histogram\n",
    "MC.plot_distribution()\n"
   ]
  },
  {
   "cell_type": "markdown",
   "metadata": {},
   "source": [
    "#### Step 4: Generate the summary statistics for the Monte Carlo simulation."
   ]
  },
  {
   "cell_type": "code",
   "execution_count": 164,
   "metadata": {},
   "outputs": [
    {
     "data": {
      "text/plain": [
       "count           500.000000\n",
       "mean             16.199262\n",
       "std              13.277675\n",
       "min               1.473483\n",
       "25%               7.488277\n",
       "50%              11.912275\n",
       "75%              20.754409\n",
       "max             104.504861\n",
       "95% CI Lower      2.859553\n",
       "95% CI Upper     51.546495\n",
       "Name: 7560, dtype: float64"
      ]
     },
     "execution_count": 164,
     "metadata": {},
     "output_type": "execute_result"
    }
   ],
   "source": [
    "# Generate summary statistics from the 30-year Monte Carlo simulation results\n",
    "# Save the results as a variable\n",
    "summary = MC.summarize_cumulative_return()\n",
    "\n",
    "# Review the 30-year Monte Carlo summary statistics\n",
    "summary"
   ]
  },
  {
   "cell_type": "markdown",
   "metadata": {},
   "source": [
    "### Analyze the Retirement Portfolio Forecasts\n",
    "\n",
    "Using the current value of only the stock and bond portion of the member's portfolio and the summary statistics that you generated from the Monte Carlo simulation, answer the following question in your Jupyter notebook:\n",
    "\n",
    "-  What are the lower and upper bounds for the expected value of the portfolio with a 95% confidence interval?\n"
   ]
  },
  {
   "cell_type": "code",
   "execution_count": 165,
   "metadata": {},
   "outputs": [
    {
     "name": "stdout",
     "output_type": "stream",
     "text": [
      "98994.7\n"
     ]
    }
   ],
   "source": [
    "# Print the current balance of the stock and bond portion of the members portfolio\n",
    "print(total_stocks_bonds)"
   ]
  },
  {
   "cell_type": "code",
   "execution_count": 166,
   "metadata": {},
   "outputs": [
    {
     "name": "stdout",
     "output_type": "stream",
     "text": [
      "95% CI [283080.64, 5102829.79]\n"
     ]
    }
   ],
   "source": [
    "# Use the lower and upper `95%` confidence intervals to calculate the range of the possible outcomes for the current stock/bond portfolio\n",
    "ci_lower_thirty_cumulative_return = total_stocks_bonds * summary['95% CI Lower']\n",
    "ci_upper_thirty_cumulative_return = total_stocks_bonds * summary['95% CI Upper']\n",
    "\n",
    "# Print the result of your calculations\n",
    "print(f\"95% CI [{round(ci_lower_thirty_cumulative_return, 2)}, {round(ci_upper_thirty_cumulative_return, 2)}]\")\n"
   ]
  },
  {
   "cell_type": "markdown",
   "metadata": {},
   "source": [
    "### Forecast Cumulative Returns in 10 Years\n",
    "\n",
    "The CTO of the credit union is impressed with your work on these planning tools but wonders if 30 years is a long time to wait until retirement. So, your next task is to adjust the retirement portfolio and run a new Monte Carlo simulation to find out if the changes will allow members to retire earlier.\n",
    "\n",
    "For this new Monte Carlo simulation, do the following: \n",
    "\n",
    "- Forecast the cumulative returns for 10 years from now. Because of the shortened investment horizon (30 years to 10 years), the portfolio needs to invest more heavily in the riskier asset&mdash;that is, stock&mdash;to help accumulate wealth for retirement. \n",
    "\n",
    "- Adjust the weights of the retirement portfolio so that the composition for the Monte Carlo simulation consists of 20% bonds and 80% stocks. \n",
    "\n",
    "- Run the simulation over 500 samples, and use the same data that the API call to Alpaca generated.\n",
    "\n",
    "- Based on the new Monte Carlo simulation, answer the following questions in your Jupyter notebook:\n",
    "\n",
    "    - Using the current value of only the stock and bond portion of the member's portfolio and the summary statistics that you generated from the new Monte Carlo simulation, what are the lower and upper bounds for the expected value of the portfolio (with the new weights) with a 95% confidence interval?\n",
    "\n",
    "    - Will weighting the portfolio more heavily toward stocks allow the credit union members to retire after only 10 years?\n"
   ]
  },
  {
   "cell_type": "code",
   "execution_count": 168,
   "metadata": {},
   "outputs": [],
   "source": [
    "# Configure the Monte Carlo simulation to forecast 30 years cumulative returns\n",
    "# The weights should be split 40% to AGG and 60% to SPY.\n",
    "# Run 500 samples.\n",
    "num_sims = 500\n",
    "\n",
    "# Review the simulation input data\n",
    "MC = MCSimulation(\n",
    "    portfolio_data = df,\n",
    "    weights=[0.8, 0.2],\n",
    "    num_simulation = num_sims, \n",
    "    num_trading_days = 252*10    \n",
    ")\n",
    "\n",
    "\n"
   ]
  },
  {
   "cell_type": "code",
   "execution_count": 169,
   "metadata": {},
   "outputs": [
    {
     "name": "stdout",
     "output_type": "stream",
     "text": [
      "Running Monte Carlo simulation number 0.\n",
      "Running Monte Carlo simulation number 10.\n",
      "Running Monte Carlo simulation number 20.\n",
      "Running Monte Carlo simulation number 30.\n",
      "Running Monte Carlo simulation number 40.\n",
      "Running Monte Carlo simulation number 50.\n",
      "Running Monte Carlo simulation number 60.\n",
      "Running Monte Carlo simulation number 70.\n",
      "Running Monte Carlo simulation number 80.\n",
      "Running Monte Carlo simulation number 90.\n",
      "Running Monte Carlo simulation number 100.\n"
     ]
    },
    {
     "name": "stderr",
     "output_type": "stream",
     "text": [
      "/Users/alfonso/Downloads/Starter_Code/MCForecastTools.py:117: PerformanceWarning: DataFrame is highly fragmented.  This is usually the result of calling `frame.insert` many times, which has poor performance.  Consider joining all columns at once using pd.concat(axis=1) instead.  To get a de-fragmented frame, use `newframe = frame.copy()`\n",
      "  portfolio_cumulative_returns[n] = (1 + sim_df.fillna(0)).cumprod()\n"
     ]
    },
    {
     "name": "stdout",
     "output_type": "stream",
     "text": [
      "Running Monte Carlo simulation number 110.\n",
      "Running Monte Carlo simulation number 120.\n",
      "Running Monte Carlo simulation number 130.\n",
      "Running Monte Carlo simulation number 140.\n",
      "Running Monte Carlo simulation number 150.\n",
      "Running Monte Carlo simulation number 160.\n",
      "Running Monte Carlo simulation number 170.\n",
      "Running Monte Carlo simulation number 180.\n",
      "Running Monte Carlo simulation number 190.\n",
      "Running Monte Carlo simulation number 200.\n",
      "Running Monte Carlo simulation number 210.\n",
      "Running Monte Carlo simulation number 220.\n",
      "Running Monte Carlo simulation number 230.\n",
      "Running Monte Carlo simulation number 240.\n",
      "Running Monte Carlo simulation number 250.\n",
      "Running Monte Carlo simulation number 260.\n",
      "Running Monte Carlo simulation number 270.\n",
      "Running Monte Carlo simulation number 280.\n",
      "Running Monte Carlo simulation number 290.\n",
      "Running Monte Carlo simulation number 300.\n",
      "Running Monte Carlo simulation number 310.\n",
      "Running Monte Carlo simulation number 320.\n",
      "Running Monte Carlo simulation number 330.\n",
      "Running Monte Carlo simulation number 340.\n",
      "Running Monte Carlo simulation number 350.\n",
      "Running Monte Carlo simulation number 360.\n",
      "Running Monte Carlo simulation number 370.\n",
      "Running Monte Carlo simulation number 380.\n",
      "Running Monte Carlo simulation number 390.\n",
      "Running Monte Carlo simulation number 400.\n",
      "Running Monte Carlo simulation number 410.\n",
      "Running Monte Carlo simulation number 420.\n",
      "Running Monte Carlo simulation number 430.\n",
      "Running Monte Carlo simulation number 440.\n",
      "Running Monte Carlo simulation number 450.\n",
      "Running Monte Carlo simulation number 460.\n",
      "Running Monte Carlo simulation number 470.\n",
      "Running Monte Carlo simulation number 480.\n",
      "Running Monte Carlo simulation number 490.\n"
     ]
    },
    {
     "data": {
      "text/html": [
       "<div>\n",
       "<style scoped>\n",
       "    .dataframe tbody tr th:only-of-type {\n",
       "        vertical-align: middle;\n",
       "    }\n",
       "\n",
       "    .dataframe tbody tr th {\n",
       "        vertical-align: top;\n",
       "    }\n",
       "\n",
       "    .dataframe thead th {\n",
       "        text-align: right;\n",
       "    }\n",
       "</style>\n",
       "<table border=\"1\" class=\"dataframe\">\n",
       "  <thead>\n",
       "    <tr style=\"text-align: right;\">\n",
       "      <th></th>\n",
       "      <th>0</th>\n",
       "      <th>1</th>\n",
       "      <th>2</th>\n",
       "      <th>3</th>\n",
       "      <th>4</th>\n",
       "      <th>5</th>\n",
       "      <th>6</th>\n",
       "      <th>7</th>\n",
       "      <th>8</th>\n",
       "      <th>9</th>\n",
       "      <th>...</th>\n",
       "      <th>490</th>\n",
       "      <th>491</th>\n",
       "      <th>492</th>\n",
       "      <th>493</th>\n",
       "      <th>494</th>\n",
       "      <th>495</th>\n",
       "      <th>496</th>\n",
       "      <th>497</th>\n",
       "      <th>498</th>\n",
       "      <th>499</th>\n",
       "    </tr>\n",
       "  </thead>\n",
       "  <tbody>\n",
       "    <tr>\n",
       "      <th>0</th>\n",
       "      <td>1.000000</td>\n",
       "      <td>1.000000</td>\n",
       "      <td>1.000000</td>\n",
       "      <td>1.000000</td>\n",
       "      <td>1.000000</td>\n",
       "      <td>1.000000</td>\n",
       "      <td>1.000000</td>\n",
       "      <td>1.000000</td>\n",
       "      <td>1.000000</td>\n",
       "      <td>1.000000</td>\n",
       "      <td>...</td>\n",
       "      <td>1.000000</td>\n",
       "      <td>1.000000</td>\n",
       "      <td>1.000000</td>\n",
       "      <td>1.000000</td>\n",
       "      <td>1.000000</td>\n",
       "      <td>1.000000</td>\n",
       "      <td>1.000000</td>\n",
       "      <td>1.000000</td>\n",
       "      <td>1.000000</td>\n",
       "      <td>1.000000</td>\n",
       "    </tr>\n",
       "    <tr>\n",
       "      <th>1</th>\n",
       "      <td>1.001709</td>\n",
       "      <td>0.996798</td>\n",
       "      <td>0.989203</td>\n",
       "      <td>0.979340</td>\n",
       "      <td>1.009606</td>\n",
       "      <td>0.977795</td>\n",
       "      <td>1.006660</td>\n",
       "      <td>0.990039</td>\n",
       "      <td>0.995627</td>\n",
       "      <td>0.996291</td>\n",
       "      <td>...</td>\n",
       "      <td>1.008470</td>\n",
       "      <td>0.987655</td>\n",
       "      <td>0.999179</td>\n",
       "      <td>0.981394</td>\n",
       "      <td>1.009336</td>\n",
       "      <td>0.991585</td>\n",
       "      <td>0.990997</td>\n",
       "      <td>0.984284</td>\n",
       "      <td>0.996420</td>\n",
       "      <td>0.999710</td>\n",
       "    </tr>\n",
       "    <tr>\n",
       "      <th>2</th>\n",
       "      <td>1.001672</td>\n",
       "      <td>1.001805</td>\n",
       "      <td>0.971928</td>\n",
       "      <td>0.992502</td>\n",
       "      <td>1.004582</td>\n",
       "      <td>0.984816</td>\n",
       "      <td>1.000124</td>\n",
       "      <td>0.985789</td>\n",
       "      <td>1.027843</td>\n",
       "      <td>0.991624</td>\n",
       "      <td>...</td>\n",
       "      <td>1.011602</td>\n",
       "      <td>0.988609</td>\n",
       "      <td>1.009854</td>\n",
       "      <td>0.979387</td>\n",
       "      <td>1.027267</td>\n",
       "      <td>1.005687</td>\n",
       "      <td>0.979561</td>\n",
       "      <td>0.986969</td>\n",
       "      <td>0.993633</td>\n",
       "      <td>1.017112</td>\n",
       "    </tr>\n",
       "    <tr>\n",
       "      <th>3</th>\n",
       "      <td>1.002420</td>\n",
       "      <td>1.012904</td>\n",
       "      <td>0.957709</td>\n",
       "      <td>1.016405</td>\n",
       "      <td>0.993521</td>\n",
       "      <td>0.987715</td>\n",
       "      <td>1.002835</td>\n",
       "      <td>0.991356</td>\n",
       "      <td>1.035667</td>\n",
       "      <td>0.993162</td>\n",
       "      <td>...</td>\n",
       "      <td>1.002767</td>\n",
       "      <td>0.990969</td>\n",
       "      <td>1.022169</td>\n",
       "      <td>0.977053</td>\n",
       "      <td>1.043820</td>\n",
       "      <td>0.978473</td>\n",
       "      <td>0.982512</td>\n",
       "      <td>0.973189</td>\n",
       "      <td>0.979850</td>\n",
       "      <td>1.004503</td>\n",
       "    </tr>\n",
       "    <tr>\n",
       "      <th>4</th>\n",
       "      <td>0.999536</td>\n",
       "      <td>0.992829</td>\n",
       "      <td>0.975851</td>\n",
       "      <td>1.003349</td>\n",
       "      <td>0.984622</td>\n",
       "      <td>0.992185</td>\n",
       "      <td>1.002774</td>\n",
       "      <td>0.985952</td>\n",
       "      <td>1.043321</td>\n",
       "      <td>1.012432</td>\n",
       "      <td>...</td>\n",
       "      <td>0.982636</td>\n",
       "      <td>0.995951</td>\n",
       "      <td>1.045690</td>\n",
       "      <td>0.994394</td>\n",
       "      <td>1.057050</td>\n",
       "      <td>0.968810</td>\n",
       "      <td>0.996442</td>\n",
       "      <td>0.962499</td>\n",
       "      <td>0.983765</td>\n",
       "      <td>1.002257</td>\n",
       "    </tr>\n",
       "    <tr>\n",
       "      <th>...</th>\n",
       "      <td>...</td>\n",
       "      <td>...</td>\n",
       "      <td>...</td>\n",
       "      <td>...</td>\n",
       "      <td>...</td>\n",
       "      <td>...</td>\n",
       "      <td>...</td>\n",
       "      <td>...</td>\n",
       "      <td>...</td>\n",
       "      <td>...</td>\n",
       "      <td>...</td>\n",
       "      <td>...</td>\n",
       "      <td>...</td>\n",
       "      <td>...</td>\n",
       "      <td>...</td>\n",
       "      <td>...</td>\n",
       "      <td>...</td>\n",
       "      <td>...</td>\n",
       "      <td>...</td>\n",
       "      <td>...</td>\n",
       "      <td>...</td>\n",
       "    </tr>\n",
       "    <tr>\n",
       "      <th>2516</th>\n",
       "      <td>5.284501</td>\n",
       "      <td>5.270069</td>\n",
       "      <td>3.235179</td>\n",
       "      <td>2.902478</td>\n",
       "      <td>1.732065</td>\n",
       "      <td>1.377742</td>\n",
       "      <td>6.961239</td>\n",
       "      <td>4.813744</td>\n",
       "      <td>1.924823</td>\n",
       "      <td>2.953445</td>\n",
       "      <td>...</td>\n",
       "      <td>4.693080</td>\n",
       "      <td>4.367937</td>\n",
       "      <td>1.496097</td>\n",
       "      <td>1.083788</td>\n",
       "      <td>2.892835</td>\n",
       "      <td>2.529712</td>\n",
       "      <td>5.752637</td>\n",
       "      <td>1.664528</td>\n",
       "      <td>2.995639</td>\n",
       "      <td>5.340613</td>\n",
       "    </tr>\n",
       "    <tr>\n",
       "      <th>2517</th>\n",
       "      <td>5.276172</td>\n",
       "      <td>5.172472</td>\n",
       "      <td>3.211742</td>\n",
       "      <td>2.967678</td>\n",
       "      <td>1.712553</td>\n",
       "      <td>1.346253</td>\n",
       "      <td>6.964540</td>\n",
       "      <td>4.725217</td>\n",
       "      <td>1.909512</td>\n",
       "      <td>2.973539</td>\n",
       "      <td>...</td>\n",
       "      <td>4.588193</td>\n",
       "      <td>4.311091</td>\n",
       "      <td>1.484277</td>\n",
       "      <td>1.070161</td>\n",
       "      <td>2.923181</td>\n",
       "      <td>2.505593</td>\n",
       "      <td>5.620644</td>\n",
       "      <td>1.659066</td>\n",
       "      <td>2.979751</td>\n",
       "      <td>5.312700</td>\n",
       "    </tr>\n",
       "    <tr>\n",
       "      <th>2518</th>\n",
       "      <td>5.322135</td>\n",
       "      <td>5.071686</td>\n",
       "      <td>3.269689</td>\n",
       "      <td>2.908669</td>\n",
       "      <td>1.698364</td>\n",
       "      <td>1.343321</td>\n",
       "      <td>7.010527</td>\n",
       "      <td>4.670040</td>\n",
       "      <td>1.931631</td>\n",
       "      <td>2.988253</td>\n",
       "      <td>...</td>\n",
       "      <td>4.555062</td>\n",
       "      <td>4.428696</td>\n",
       "      <td>1.493229</td>\n",
       "      <td>1.065977</td>\n",
       "      <td>2.952691</td>\n",
       "      <td>2.498628</td>\n",
       "      <td>5.679427</td>\n",
       "      <td>1.660923</td>\n",
       "      <td>2.951001</td>\n",
       "      <td>5.207227</td>\n",
       "    </tr>\n",
       "    <tr>\n",
       "      <th>2519</th>\n",
       "      <td>5.225898</td>\n",
       "      <td>5.179285</td>\n",
       "      <td>3.252751</td>\n",
       "      <td>2.903728</td>\n",
       "      <td>1.682490</td>\n",
       "      <td>1.336781</td>\n",
       "      <td>7.128006</td>\n",
       "      <td>4.690152</td>\n",
       "      <td>1.957305</td>\n",
       "      <td>2.965087</td>\n",
       "      <td>...</td>\n",
       "      <td>4.543774</td>\n",
       "      <td>4.387662</td>\n",
       "      <td>1.487110</td>\n",
       "      <td>1.055313</td>\n",
       "      <td>3.018732</td>\n",
       "      <td>2.439206</td>\n",
       "      <td>5.688102</td>\n",
       "      <td>1.685313</td>\n",
       "      <td>2.949520</td>\n",
       "      <td>5.156693</td>\n",
       "    </tr>\n",
       "    <tr>\n",
       "      <th>2520</th>\n",
       "      <td>5.162084</td>\n",
       "      <td>5.173900</td>\n",
       "      <td>3.232866</td>\n",
       "      <td>2.869600</td>\n",
       "      <td>1.679589</td>\n",
       "      <td>1.349675</td>\n",
       "      <td>7.240869</td>\n",
       "      <td>4.751080</td>\n",
       "      <td>1.986564</td>\n",
       "      <td>2.964772</td>\n",
       "      <td>...</td>\n",
       "      <td>4.512554</td>\n",
       "      <td>4.461793</td>\n",
       "      <td>1.486853</td>\n",
       "      <td>1.056473</td>\n",
       "      <td>2.984350</td>\n",
       "      <td>2.426902</td>\n",
       "      <td>5.729919</td>\n",
       "      <td>1.714739</td>\n",
       "      <td>2.894438</td>\n",
       "      <td>5.147478</td>\n",
       "    </tr>\n",
       "  </tbody>\n",
       "</table>\n",
       "<p>2521 rows × 500 columns</p>\n",
       "</div>"
      ],
      "text/plain": [
       "           0         1         2         3         4         5         6    \\\n",
       "0     1.000000  1.000000  1.000000  1.000000  1.000000  1.000000  1.000000   \n",
       "1     1.001709  0.996798  0.989203  0.979340  1.009606  0.977795  1.006660   \n",
       "2     1.001672  1.001805  0.971928  0.992502  1.004582  0.984816  1.000124   \n",
       "3     1.002420  1.012904  0.957709  1.016405  0.993521  0.987715  1.002835   \n",
       "4     0.999536  0.992829  0.975851  1.003349  0.984622  0.992185  1.002774   \n",
       "...        ...       ...       ...       ...       ...       ...       ...   \n",
       "2516  5.284501  5.270069  3.235179  2.902478  1.732065  1.377742  6.961239   \n",
       "2517  5.276172  5.172472  3.211742  2.967678  1.712553  1.346253  6.964540   \n",
       "2518  5.322135  5.071686  3.269689  2.908669  1.698364  1.343321  7.010527   \n",
       "2519  5.225898  5.179285  3.252751  2.903728  1.682490  1.336781  7.128006   \n",
       "2520  5.162084  5.173900  3.232866  2.869600  1.679589  1.349675  7.240869   \n",
       "\n",
       "           7         8         9    ...       490       491       492  \\\n",
       "0     1.000000  1.000000  1.000000  ...  1.000000  1.000000  1.000000   \n",
       "1     0.990039  0.995627  0.996291  ...  1.008470  0.987655  0.999179   \n",
       "2     0.985789  1.027843  0.991624  ...  1.011602  0.988609  1.009854   \n",
       "3     0.991356  1.035667  0.993162  ...  1.002767  0.990969  1.022169   \n",
       "4     0.985952  1.043321  1.012432  ...  0.982636  0.995951  1.045690   \n",
       "...        ...       ...       ...  ...       ...       ...       ...   \n",
       "2516  4.813744  1.924823  2.953445  ...  4.693080  4.367937  1.496097   \n",
       "2517  4.725217  1.909512  2.973539  ...  4.588193  4.311091  1.484277   \n",
       "2518  4.670040  1.931631  2.988253  ...  4.555062  4.428696  1.493229   \n",
       "2519  4.690152  1.957305  2.965087  ...  4.543774  4.387662  1.487110   \n",
       "2520  4.751080  1.986564  2.964772  ...  4.512554  4.461793  1.486853   \n",
       "\n",
       "           493       494       495       496       497       498       499  \n",
       "0     1.000000  1.000000  1.000000  1.000000  1.000000  1.000000  1.000000  \n",
       "1     0.981394  1.009336  0.991585  0.990997  0.984284  0.996420  0.999710  \n",
       "2     0.979387  1.027267  1.005687  0.979561  0.986969  0.993633  1.017112  \n",
       "3     0.977053  1.043820  0.978473  0.982512  0.973189  0.979850  1.004503  \n",
       "4     0.994394  1.057050  0.968810  0.996442  0.962499  0.983765  1.002257  \n",
       "...        ...       ...       ...       ...       ...       ...       ...  \n",
       "2516  1.083788  2.892835  2.529712  5.752637  1.664528  2.995639  5.340613  \n",
       "2517  1.070161  2.923181  2.505593  5.620644  1.659066  2.979751  5.312700  \n",
       "2518  1.065977  2.952691  2.498628  5.679427  1.660923  2.951001  5.207227  \n",
       "2519  1.055313  3.018732  2.439206  5.688102  1.685313  2.949520  5.156693  \n",
       "2520  1.056473  2.984350  2.426902  5.729919  1.714739  2.894438  5.147478  \n",
       "\n",
       "[2521 rows x 500 columns]"
      ]
     },
     "execution_count": 169,
     "metadata": {},
     "output_type": "execute_result"
    }
   ],
   "source": [
    "# Run the Monte Carlo simulation to forecast 10 years cumulative returns\n",
    "MC.calc_cumulative_return()\n"
   ]
  },
  {
   "cell_type": "code",
   "execution_count": 170,
   "metadata": {},
   "outputs": [
    {
     "data": {
      "text/plain": [
       "<AxesSubplot:title={'center':'500 Simulations of Cumulative Portfolio Return Trajectories Over the Next 2520 Trading Days.'}>"
      ]
     },
     "execution_count": 170,
     "metadata": {},
     "output_type": "execute_result"
    },
    {
     "data": {
      "image/png": "[encoded data removed]",
      "text/plain": [
       "<Figure size 432x288 with 1 Axes>"
      ]
     },
     "metadata": {
      "needs_background": "light"
     },
     "output_type": "display_data"
    }
   ],
   "source": [
    "# Visualize the 10-year Monte Carlo simulation by creating an\n",
    "# overlay line plot\n",
    "MC.plot_simulation()\n"
   ]
  },
  {
   "cell_type": "code",
   "execution_count": 171,
   "metadata": {},
   "outputs": [
    {
     "data": {
      "text/plain": [
       "<AxesSubplot:title={'center':'Distribution of Final Cumuluative Returns Across All 500 Simulations'}, ylabel='Frequency'>"
      ]
     },
     "execution_count": 171,
     "metadata": {},
     "output_type": "execute_result"
    },
    {
     "data": {
      "image/png": "[encoded data removed]",
      "text/plain": [
       "<Figure size 432x288 with 1 Axes>"
      ]
     },
     "metadata": {
      "needs_background": "light"
     },
     "output_type": "display_data"
    }
   ],
   "source": [
    "# Visualize the probability distribution of the 10-year Monte Carlo simulation \n",
    "# by plotting a histogram\n",
    "# YOUR CODE HERE\n",
    "MC.plot_distribution()"
   ]
  },
  {
   "cell_type": "code",
   "execution_count": 172,
   "metadata": {},
   "outputs": [
    {
     "name": "stdout",
     "output_type": "stream",
     "text": [
      "count           500.000000\n",
      "mean              3.680791\n",
      "std               2.206748\n",
      "min               0.681508\n",
      "25%               2.182657\n",
      "50%               3.137274\n",
      "75%               4.737882\n",
      "max              16.554261\n",
      "95% CI Lower      1.038562\n",
      "95% CI Upper      9.328413\n",
      "Name: 2520, dtype: float64\n"
     ]
    }
   ],
   "source": [
    "# Generate summary statistics from the 10-year Monte Carlo simulation results\n",
    "# Save the results as a variable\n",
    "summary = MC.summarize_cumulative_return()\n",
    "\n",
    "\n",
    "# Review the 10-year Monte Carlo summary statistics\n",
    "print(summary)"
   ]
  },
  {
   "cell_type": "markdown",
   "metadata": {},
   "source": [
    "### Answer the following questions:"
   ]
  },
  {
   "cell_type": "markdown",
   "metadata": {},
   "source": [
    "#### Question: Using the current value of only the stock and bond portion of the member's portfolio and the summary statistics that you generated from the new Monte Carlo simulation, what are the lower and upper bounds for the expected value of the portfolio (with the new weights) with a 95% confidence interval?"
   ]
  },
  {
   "cell_type": "code",
   "execution_count": 173,
   "metadata": {},
   "outputs": [
    {
     "name": "stdout",
     "output_type": "stream",
     "text": [
      "163784.553\n"
     ]
    }
   ],
   "source": [
    "# Print the current balance of the stock and bond portion of the members portfolio\n",
    "print(total_portfolio)\n"
   ]
  },
  {
   "cell_type": "code",
   "execution_count": 174,
   "metadata": {},
   "outputs": [
    {
     "name": "stdout",
     "output_type": "stream",
     "text": [
      "95% CI [102812.1, 923463.48]\n"
     ]
    }
   ],
   "source": [
    "# Use the lower and upper `95%` confidence intervals to calculate the range of the possible outcomes for the current stock/bond portfolio\n",
    "ci_lower_thirty_cumulative_return = total_stocks_bonds * summary['95% CI Lower']\n",
    "ci_upper_thirty_cumulative_return = total_stocks_bonds * summary['95% CI Upper']\n",
    "\n",
    "# Print the result of your calculations\n",
    "print(f\"95% CI [{round(ci_lower_thirty_cumulative_return, 2)}, {round(ci_upper_thirty_cumulative_return, 2)}]\")\n",
    "\n"
   ]
  },
  {
   "cell_type": "markdown",
   "metadata": {},
   "source": [
    "#### Question: Will weighting the portfolio more heavily to stocks allow the credit union members to retire after only 10 years?"
   ]
  },
  {
   "cell_type": "raw",
   "metadata": {},
   "source": [
    "Depends on what is their target for retirement. If their target is lower than the lower bound, then no. \n",
    "if their target is higher than the lower bound, then yes. "
   ]
  },
  {
   "cell_type": "code",
   "execution_count": null,
   "metadata": {},
   "outputs": [],
   "source": []
  }
 ],
 "metadata": {
  "kernelspec": {
   "display_name": "Python 3 (ipykernel)",
   "language": "python",
   "name": "python3"
  },
  "language_info": {
   "codemirror_mode": {
    "name": "ipython",
    "version": 3
   },
   "file_extension": ".py",
   "mimetype": "text/x-python",
   "name": "python",
   "nbconvert_exporter": "python",
   "pygments_lexer": "ipython3",
   "version": "3.9.7"
  }
 },
 "nbformat": 4,
 "nbformat_minor": 4
}
